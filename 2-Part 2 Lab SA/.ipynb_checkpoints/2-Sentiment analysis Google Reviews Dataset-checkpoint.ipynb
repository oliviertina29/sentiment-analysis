{
 "cells": [
  {
   "cell_type": "markdown",
   "metadata": {
    "id": "3XKZwaOnWAJo"
   },
   "source": [
    "# **1. Introduction**\n",
    "\n",
    "**Goals**:\n",
    "\n",
    "\n",
    "*  Learn the usage of textual data\n",
    "*  Get to know popular NLP-frameworks (NLTK, Spacy, Gensim)\n",
    "*  Learn how to preprocess textual data for further analysis (tokenization, stemming/lemmatization, stopword removal, vectorization, similarity computation) \n",
    "* Get to know popular ML framework Scikit-learn\n",
    "* Build model and evaluate it on test set\n",
    "---\n",
    "\n",
    "**Credit**: This tutorial is partly based on [blog post 1](https://curiousily.com/posts/create-dataset-for-sentiment-analysis-by-scraping-google-play-app-reviews-using-python/), [blog post 2](https://curiousily.com/posts/sentiment-analysis-with-bert-and-hugging-face-using-pytorch-and-python/) and the series \"Fundamentals of NLP\" by  Elvis Saravia ( [Twitter](https://twitter.com/omarsar0) | [LinkedIn](https://www.linkedin.com/in/omarsar/)), where the full project is maintained [here](https://github.com/dair-ai/nlp_fundamentals).\n",
    "\n",
    "---"
   ]
  },
  {
   "cell_type": "markdown",
   "metadata": {
    "id": "vSCFR2xLvrBo"
   },
   "source": [
    "Before we start, we can first check the installed library  by following command line:\n",
    "\n",
    "* ``pip freeze``: list all the python libaries & versions\n",
    "* ``pip show <package_name>``: list the selected package_name"
   ]
  },
  {
   "cell_type": "code",
   "execution_count": 1,
   "metadata": {
    "colab": {
     "base_uri": "https://localhost:8080/"
    },
    "executionInfo": {
     "elapsed": 1724,
     "status": "ok",
     "timestamp": 1648123911402,
     "user": {
      "displayName": "Chia-Chien Hung",
      "photoUrl": "https://lh3.googleusercontent.com/a/default-user=s64",
      "userId": "04879890229820011815"
     },
     "user_tz": -60
    },
    "id": "2W9223RYwTgQ",
    "outputId": "9250f9c2-5a49-4ef1-93de-af9cd7627559"
   },
   "outputs": [
    {
     "name": "stdout",
     "output_type": "stream",
     "text": [
      "adal==1.2.7\n",
      "aiohttp @ file:///C:/ci/aiohttp_1646806579488/work\n",
      "aiosignal @ file:///tmp/build/80754af9/aiosignal_1637843061372/work\n",
      "alabaster==0.7.12\n",
      "alembic==1.8.1\n",
      "anaconda-client==1.11.0\n",
      "anaconda-navigator==2.3.0\n",
      "anaconda-project @ file:///C:/Windows/TEMP/abs_91fu4tfkih/croots/recipe/anaconda-project_1660339890874/work\n",
      "anyio @ file:///C:/ci/anyio_1644463705902/work/dist\n",
      "appdirs==1.4.4\n",
      "argon2-cffi @ file:///opt/conda/conda-bld/argon2-cffi_1645000214183/work\n",
      "argon2-cffi-bindings @ file:///C:/ci/argon2-cffi-bindings_1644569848815/work\n",
      "arrow @ file:///opt/conda/conda-bld/arrow_1649166651673/work\n",
      "asn1crypto==0.24.0\n",
      "astroid @ file:///C:/Windows/TEMP/abs_b0dtxgpicv/croots/recipe/astroid_1659023126745/work\n",
      "astropy @ file:///C:/ci/astropy_1629829319964/work\n",
      "async-timeout @ file:///tmp/build/80754af9/async-timeout_1637851218186/work\n",
      "asynctest==0.13.0\n",
      "atomicwrites==1.4.0\n",
      "attrs @ file:///opt/conda/conda-bld/attrs_1642510447205/work\n",
      "Automat @ file:///tmp/build/80754af9/automat_1600298431173/work\n",
      "autopep8 @ file:///opt/conda/conda-bld/autopep8_1650463822033/work\n",
      "azure-common==1.1.28\n",
      "azure-core==1.25.1\n",
      "azure-graphrbac==0.61.1\n",
      "azure-identity==1.10.0\n",
      "azure-mgmt-authorization==0.61.0\n",
      "azure-mgmt-containerregistry==8.2.0\n",
      "azure-mgmt-core==1.3.0\n",
      "azure-mgmt-keyvault==9.3.0\n",
      "azure-mgmt-resource==20.1.0\n",
      "azure-mgmt-storage==19.1.0\n",
      "azure-storage-blob==12.13.0\n",
      "azureml==0.2.7\n",
      "azureml-core==1.39.0\n",
      "azureml-mlflow==1.45.0\n",
      "Babel @ file:///tmp/build/80754af9/babel_1620871417480/work\n",
      "backcall @ file:///home/ktietz/src/ci/backcall_1611930011877/work\n",
      "backports.functools-lru-cache @ file:///tmp/build/80754af9/backports.functools_lru_cache_1618170165463/work\n",
      "backports.os==0.1.1\n",
      "backports.shutil-get-terminal-size==1.0.0\n",
      "backports.tempfile==1.0\n",
      "backports.weakref==1.0.post1\n",
      "bcrypt==4.0.0\n",
      "beautifulsoup4 @ file:///C:/ci/beautifulsoup4_1650292996413/work\n",
      "binaryornot @ file:///tmp/build/80754af9/binaryornot_1617751525010/work\n",
      "bitarray @ file:///C:/ci/bitarray_1657711375532/work\n",
      "bkcharts==0.2\n",
      "black @ file:///C:/ci/black_1660239917055/work\n",
      "bleach @ file:///opt/conda/conda-bld/bleach_1641577558959/work\n",
      "bokeh @ file:///C:/Windows/TEMP/abs_4a259bc2-ed05-4a1f-808e-ac712cc0900cddqp8sp7/croots/recipe/bokeh_1658136660686/work\n",
      "boto==2.49.0\n",
      "boto3 @ file:///C:/Windows/TEMP/abs_4009c406-44ba-4406-8996-204d9b11202flt4kglbk/croots/recipe/boto3_1657820114895/work\n",
      "botocore @ file:///C:/ci/botocore_1657717627408/work\n",
      "Bottleneck @ file:///C:/Windows/Temp/abs_3198ca53-903d-42fd-87b4-03e6d03a8381yfwsuve8/croots/recipe/bottleneck_1657175565403/work\n",
      "brotlipy==0.7.0\n",
      "cachetools @ file:///tmp/build/80754af9/cachetools_1619597386817/work\n",
      "certifi==2022.12.7\n",
      "cffi @ file:///C:/Windows/Temp/abs_6808y9x40v/croots/recipe/cffi_1659598653989/work\n",
      "chardet @ file:///C:/ci/chardet_1607706910910/work\n",
      "charset-normalizer @ file:///tmp/build/80754af9/charset-normalizer_1630003229654/work\n",
      "click @ file:///C:/ci/click_1646038601470/work\n",
      "cloudpickle==2.0.0\n",
      "clyent==1.2.2\n",
      "colorama @ file:///C:/Windows/TEMP/abs_9439aeb1-0254-449a-96f7-33ab5eb17fc8apleb4yn/croots/recipe/colorama_1657009099097/work\n",
      "colorcet @ file:///C:/ci/colorcet_1651851671844/work\n",
      "comtypes==1.1.10\n",
      "conda==4.14.0\n",
      "conda-build==3.22.0\n",
      "conda-content-trust @ file:///C:/Windows/TEMP/abs_4589313d-fc62-4ccc-81c0-b801b4449e833j1ajrwu/croots/recipe/conda-content-trust_1658126379362/work\n",
      "conda-pack @ file:///tmp/build/80754af9/conda-pack_1611163042455/work\n",
      "conda-package-handling @ file:///C:/ci/conda-package-handling_1649106008722/work\n",
      "conda-repo-cli==1.0.5\n",
      "conda-token @ file:///tmp/build/80754af9/conda-token_1620076980546/work\n",
      "conda-verify==3.4.2\n",
      "constantly==15.1.0\n",
      "contextlib2==0.5.5\n",
      "cookiecutter @ file:///opt/conda/conda-bld/cookiecutter_1649151442564/work\n",
      "cryptography==36.0.2\n",
      "cssselect==1.1.0\n",
      "cycler @ file:///tmp/build/80754af9/cycler_1637851556182/work\n",
      "Cython @ file:///C:/Windows/Temp/abs_b300180f-81e0-420a-bc9f-b92686316cc6ycbce4mc/croots/recipe/cython_1656941954241/work\n",
      "cytoolz==0.11.0\n",
      "daal4py==2021.5.0\n",
      "dask==1.1.4\n",
      "databricks-cli==0.16.2\n",
      "datashader @ file:///C:/Windows/TEMP/abs_62cyd2dpuf/croots/recipe/datashader_1659349034750/work\n",
      "datashape==0.5.4\n",
      "debugpy @ file:///C:/ci/debugpy_1637091911212/work\n",
      "decorator @ file:///opt/conda/conda-bld/decorator_1643638310831/work\n",
      "defusedxml @ file:///tmp/build/80754af9/defusedxml_1615228127516/work\n",
      "diff-match-patch @ file:///Users/ktietz/demo/mc3/conda-bld/diff-match-patch_1630511840874/work\n",
      "dill @ file:///tmp/build/80754af9/dill_1623919422540/work\n",
      "distributed==1.26.0\n",
      "docker==5.0.3\n",
      "docutils @ file:///C:/Windows/TEMP/abs_24e5e278-4d1c-47eb-97b9-f761d871f482dy2vg450/croots/recipe/docutils_1657175444608/work\n",
      "entrypoints @ file:///C:/ci/entrypoints_1649926659561/work\n",
      "et-xmlfile==1.1.0\n",
      "fastcache==1.0.2\n",
      "fastjsonschema @ file:///C:/Users/BUILDE~1/AppData/Local/Temp/abs_ebruxzvd08/croots/recipe/python-fastjsonschema_1661376484940/work\n",
      "feature-engine==1.1.2\n",
      "filelock @ file:///opt/conda/conda-bld/filelock_1647002191454/work\n",
      "flake8 @ file:///opt/conda/conda-bld/flake8_1648129545443/work\n",
      "Flask @ file:///home/ktietz/src/ci/flask_1611932660458/work\n",
      "fonttools==4.25.0\n",
      "frozendict==2.3.4\n",
      "frozenlist @ file:///C:/ci/frozenlist_1637767267867/work\n",
      "fsspec @ file:///C:/Windows/TEMP/abs_a2mhnomvfy/croots/recipe/fsspec_1659972224540/work\n",
      "future==0.18.2\n",
      "gensim @ file:///C:/ci/gensim_1646806960702/work\n",
      "gevent==1.4.0\n",
      "gitdb==4.0.9\n",
      "GitPython==3.1.27\n",
      "glob2 @ file:///home/linux1/recipes/ci/glob2_1610991677669/work\n",
      "google-api-core @ file:///C:/ci/google-api-core-split_1639676600705/work\n",
      "google-auth @ file:///opt/conda/conda-bld/google-auth_1646735974934/work\n",
      "google-cloud-core @ file:///opt/conda/conda-bld/google-cloud-core_1646821952931/work\n",
      "google-cloud-storage @ file:///C:/Windows/TEMP/abs_e8d86f4b-66f4-4a30-bb99-abd3e6faa2cfrri85ftj/croots/recipe/google-cloud-storage_1654699184881/work\n",
      "google-crc32c @ file:///C:/ci/google-crc32c_1612243062336/work\n",
      "google-resumable-media @ file:///tmp/build/80754af9/google-resumable-media_1624367812531/work\n",
      "googleapis-common-protos @ file:///C:/Windows/TEMP/abs_f3kgqo235h/croots/recipe/googleapis-common-protos-feedstock_1660256147016/work\n",
      "greenlet @ file:///C:/ci/greenlet_1628888257991/work\n",
      "grpcio @ file:///C:/ci/grpcio_1637590993074/work\n",
      "h5py==2.10.0\n",
      "HeapDict @ file:///Users/ktietz/demo/mc3/conda-bld/heapdict_1630598515714/work\n",
      "holoviews @ file:///C:/Windows/TEMP/abs_fb9d2988-9681-46b6-b9ab-190cfecd15d7uinyq_4z/croots/recipe/holoviews_1658171511842/work\n",
      "html5lib==1.1\n",
      "humanfriendly==10.0\n",
      "hvplot @ file:///C:/Windows/TEMP/abs_02zoq6lck3/croots/recipe/hvplot_1659026502064/work\n",
      "hyperlink @ file:///tmp/build/80754af9/hyperlink_1610130746837/work\n",
      "idna @ file:///tmp/build/80754af9/idna_1637925883363/work\n",
      "imagecodecs @ file:///C:/ci/imagecodecs_1635529223557/work\n",
      "imageio @ file:///C:/Windows/TEMP/abs_24c1b783-7540-4ca9-a1b1-0e8aa8e6ae64hb79ssux/croots/recipe/imageio_1658785038775/work\n",
      "imagesize @ file:///C:/Windows/TEMP/abs_3cecd249-3fc4-4bfc-b80b-bb227b0d701en12vqzot/croots/recipe/imagesize_1657179501304/work\n",
      "imbalanced-learn @ file:///home/conda/feedstock_root/build_artifacts/imbalanced-learn_1672235740107/work\n",
      "imblearn==0.0\n",
      "importlib-metadata @ file:///C:/ci/importlib-metadata_1648562631189/work\n",
      "importlib-resources @ file:///tmp/build/80754af9/importlib_resources_1625135880749/work\n",
      "incremental @ file:///tmp/build/80754af9/incremental_1636629750599/work\n",
      "inflection==0.5.1\n",
      "iniconfig @ file:///home/linux1/recipes/ci/iniconfig_1610983019677/work\n",
      "intake @ file:///opt/conda/conda-bld/intake_1647436631684/work\n",
      "intervaltree @ file:///Users/ktietz/demo/mc3/conda-bld/intervaltree_1630511889664/work\n",
      "ipykernel @ file:///C:/b/abs_21ykzkm7y_/croots/recipe/ipykernel_1662361803478/work\n",
      "ipython @ file:///C:/Windows/TEMP/abs_45b5zb1l7q/croots/recipe/ipython_1659529855872/work\n",
      "ipython-genutils @ file:///tmp/build/80754af9/ipython_genutils_1606773439826/work\n",
      "ipywidgets @ file:///tmp/build/80754af9/ipywidgets_1634143127070/work\n",
      "isodate==0.6.1\n",
      "isort @ file:///tmp/build/80754af9/isort_1628603791788/work\n",
      "itemadapter @ file:///tmp/build/80754af9/itemadapter_1626442940632/work\n",
      "itemloaders @ file:///opt/conda/conda-bld/itemloaders_1646805235997/work\n",
      "itsdangerous @ file:///tmp/build/80754af9/itsdangerous_1621432558163/work\n",
      "jdcal @ file:///Users/ktietz/demo/mc3/conda-bld/jdcal_1630584345063/work\n",
      "jedi @ file:///C:/ci/jedi_1644297241925/work\n",
      "jeepney==0.8.0\n",
      "Jinja2==2.10.1\n",
      "jinja2-time @ file:///opt/conda/conda-bld/jinja2-time_1649251842261/work\n",
      "jmespath==0.10.0\n",
      "joblib==1.2.0\n",
      "json5 @ file:///tmp/build/80754af9/json5_1624432770122/work\n",
      "jsonpickle==2.2.0\n",
      "jsonschema @ file:///C:/ci/jsonschema_1650026210703/work\n",
      "jupyter @ file:///C:/Windows/TEMP/abs_56xfdi__li/croots/recipe/jupyter_1659349053177/work\n",
      "jupyter-console @ file:///opt/conda/conda-bld/jupyter_console_1647002188872/work\n",
      "jupyter-core @ file:///C:/ci/jupyter_core_1651656282279/work\n",
      "jupyter-server @ file:///C:/Windows/TEMP/abs_d3c42c59-765d-4f9b-9fa3-ad5b1369485611i_yual/croots/recipe/jupyter_server_1658754493238/work\n",
      "jupyter_client @ file:///C:/b/abs_8fbm7986b_/croots/recipe/jupyter_client_1662504374117/work\n",
      "jupyterlab @ file:///C:/ci/jupyterlab_1658909377220/work\n",
      "jupyterlab-pygments @ file:///tmp/build/80754af9/jupyterlab_pygments_1601490720602/work\n",
      "jupyterlab-server @ file:///opt/conda/conda-bld/jupyterlab_server_1644500396812/work\n",
      "jupyterlab-widgets @ file:///tmp/build/80754af9/jupyterlab_widgets_1609884341231/work\n",
      "keyring @ file:///C:/ci/keyring_1638531658822/work\n",
      "kiwisolver @ file:///C:/ci/kiwisolver_1653274189334/work\n",
      "knack==0.9.0\n",
      "lazy-object-proxy @ file:///C:/ci/lazy-object-proxy_1616529290879/work\n",
      "libarchive-c @ file:///tmp/build/80754af9/python-libarchive-c_1617780486945/work\n",
      "lightgbm==2.0.3\n",
      "llvmlite==0.38.0\n",
      "locket @ file:///C:/ci/locket_1652885902808/work\n",
      "lxml @ file:///C:/ci/lxml_1657509249535/work\n",
      "Mako==1.2.3\n",
      "Markdown @ file:///C:/ci/markdown_1614364005059/work\n",
      "MarkupSafe @ file:///C:/ci/markupsafe_1621528383308/work\n",
      "matplotlib @ file:///C:/ci/matplotlib-suite_1660169687702/work\n",
      "matplotlib-inline @ file:///C:/ci/matplotlib-inline_1661934089728/work\n",
      "mccabe @ file:///opt/conda/conda-bld/mccabe_1644221741721/work\n",
      "menuinst @ file:///C:/Users/BUILDE~1/AppData/Local/Temp/abs_455sf5o0ct/croots/recipe/menuinst_1661805970842/work\n",
      "mistune @ file:///C:/ci/mistune_1594373272338/work\n",
      "mkl-fft==1.3.1\n",
      "mkl-random @ file:///C:/ci/mkl_random_1626186163140/work\n",
      "mkl-service==2.4.0\n",
      "mlflow==1.29.0\n",
      "mlflow-skinny==1.28.0\n",
      "mock @ file:///tmp/build/80754af9/mock_1607622725907/work\n",
      "more-itertools==6.0.0\n",
      "mpmath==1.2.1\n",
      "msal==1.18.0\n",
      "msal-extensions==0.3.1\n",
      "msgpack @ file:///C:/ci/msgpack-python_1652347515899/work\n",
      "msrest==0.6.21\n",
      "msrestazure==0.6.4\n",
      "multidict @ file:///C:/b/abs_49gd2k2bsh/croots/recipe/multidict_1662369343444/work\n",
      "multipledispatch==0.6.0\n",
      "multitasking==0.0.11\n",
      "munkres==1.1.4\n",
      "mypy-extensions==0.4.3\n",
      "navigator-updater==0.3.0\n",
      "nbclassic @ file:///opt/conda/conda-bld/nbclassic_1644943264176/work\n",
      "nbclient @ file:///C:/ci/nbclient_1650308542913/work\n",
      "nbconvert @ file:///C:/ci/nbconvert_1649759177374/work\n",
      "nbformat @ file:///C:/ci/nbformat_1649845122517/work\n",
      "ndg-httpsclient==0.5.1\n",
      "nest-asyncio @ file:///C:/ci/nest-asyncio_1649848126026/work\n",
      "networkx==2.6.3\n",
      "nltk @ file:///opt/conda/conda-bld/nltk_1645628263994/work\n",
      "nose @ file:///opt/conda/conda-bld/nose_1642704612149/work\n",
      "notebook @ file:///C:/Windows/TEMP/abs_79abr1_60s/croots/recipe/notebook_1659083661851/work\n",
      "numba @ file:///C:/ci/numba_1650394415133/work\n",
      "numexpr @ file:///C:/Windows/Temp/abs_e2036a32-9fe9-47f3-a04c-dbb1c232ba4b334exiur/croots/recipe/numexpr_1656940304835/work\n",
      "numpy==1.21.6\n",
      "numpydoc @ file:///C:/Windows/TEMP/abs_30799058-86dd-4401-b621-d172137a4d87_ra3twm7/croots/recipe/numpydoc_1657529873713/work\n",
      "oauthlib==3.2.0\n",
      "olefile==0.46\n",
      "openpyxl==3.0.10\n",
      "oracledb==1.2.1\n",
      "packaging==21.3\n",
      "pandas==1.3.5\n",
      "pandocfilters @ file:///opt/conda/conda-bld/pandocfilters_1643405455980/work\n",
      "panel @ file:///C:/ci/panel_1657899645733/work\n",
      "param @ file:///tmp/build/80754af9/param_1636647414893/work\n",
      "paramiko==2.11.0\n",
      "parsel @ file:///C:/ci/parsel_1646722037164/work\n",
      "parso @ file:///opt/conda/conda-bld/parso_1641458642106/work\n",
      "partd @ file:///opt/conda/conda-bld/partd_1647245470509/work\n",
      "path.py==11.5.0\n",
      "pathlib2==2.3.3\n",
      "pathspec @ file:///C:/Windows/TEMP/abs_581d0u45mh/croots/recipe/pathspec_1659627132171/work\n",
      "patsy==0.5.2\n",
      "pep8==1.7.1\n",
      "pexpect @ file:///tmp/build/80754af9/pexpect_1605563209008/work\n",
      "pickleshare @ file:///tmp/build/80754af9/pickleshare_1606932040724/work\n",
      "Pillow==9.2.0\n",
      "pkginfo @ file:///tmp/build/80754af9/pkginfo_1643162084911/work\n",
      "platformdirs @ file:///C:/b/abs_73cc5cz_1u/croots/recipe/platformdirs_1662711386458/work\n",
      "plotly @ file:///C:/ci/plotly_1658160626155/work\n",
      "pluggy @ file:///C:/ci/pluggy_1648042781630/work\n",
      "ply==3.11\n",
      "portalocker==2.5.1\n",
      "poyo @ file:///tmp/build/80754af9/poyo_1617751526755/work\n",
      "prometheus-client @ file:///C:/Windows/TEMP/abs_ab9nx8qb08/croots/recipe/prometheus_client_1659455104602/work\n",
      "prometheus-flask-exporter==0.20.3\n",
      "prompt-toolkit @ file:///tmp/build/80754af9/prompt-toolkit_1633440160888/work\n",
      "Protego @ file:///tmp/build/80754af9/protego_1598657180827/work\n",
      "protobuf==3.20.1\n",
      "psutil @ file:///C:/Windows/Temp/abs_b2c2fd7f-9fd5-4756-95ea-8aed74d0039flsd9qufz/croots/recipe/psutil_1656431277748/work\n",
      "ptyprocess @ file:///tmp/build/80754af9/ptyprocess_1609355006118/work/dist/ptyprocess-0.7.0-py2.py3-none-any.whl\n",
      "py @ file:///opt/conda/conda-bld/py_1644396412707/work\n",
      "pyasn1==0.4.8\n",
      "pyasn1-modules==0.2.8\n",
      "pycodestyle @ file:///tmp/build/80754af9/pycodestyle_1636635402688/work\n",
      "pycosat==0.6.3\n",
      "pycparser @ file:///tmp/build/80754af9/pycparser_1636541352034/work\n",
      "pycrypto==2.6.1\n",
      "pyct @ file:///C:/ci/pyct_1658487981982/work\n",
      "pycurl==7.45.1\n",
      "PyDispatcher==2.0.5\n",
      "pydocstyle @ file:///tmp/build/80754af9/pydocstyle_1621600989141/work\n",
      "pyerfa @ file:///C:/ci/pyerfa_1621560986234/work\n",
      "pyflakes @ file:///tmp/build/80754af9/pyflakes_1636644436481/work\n",
      "Pygments @ file:///opt/conda/conda-bld/pygments_1644249106324/work\n",
      "PyHamcrest @ file:///tmp/build/80754af9/pyhamcrest_1615748656804/work\n",
      "PyJWT @ file:///C:/ci/pyjwt_1657529476747/work\n",
      "pylint @ file:///C:/Windows/TEMP/abs_518eqlbmoo/croots/recipe/pylint_1659110354241/work\n",
      "pyls-spyder==0.4.0\n",
      "PyNaCl==1.5.0\n",
      "pyodbc @ file:///C:/Windows/Temp/abs_61e3jz3u05/croots/recipe/pyodbc_1659513801402/work\n",
      "pyOpenSSL==21.0.0\n",
      "pyparsing @ file:///C:/Users/BUILDE~1/AppData/Local/Temp/abs_7f_7lba6rl/croots/recipe/pyparsing_1661452540662/work\n",
      "pyreadline==2.1\n",
      "pyrsistent @ file:///C:/ci/pyrsistent_1636093257833/work\n",
      "PySocks @ file:///C:/ci/pysocks_1594394709107/work\n",
      "pytest==7.1.2\n",
      "pytest-arraydiff==0.3\n",
      "pytest-astropy==0.5.0\n",
      "pytest-doctestplus==0.3.0\n",
      "pytest-openfiles==0.3.2\n",
      "pytest-remotedata==0.3.1\n",
      "python-dateutil @ file:///tmp/build/80754af9/python-dateutil_1626374649649/work\n",
      "python-editor==1.0.4\n",
      "python-lsp-black @ file:///C:/Users/BUILDE~1/AppData/Local/Temp/abs_dddk9lhpp1/croots/recipe/python-lsp-black_1661852041405/work\n",
      "python-lsp-jsonrpc==1.0.0\n",
      "python-lsp-server @ file:///C:/Users/BUILDE~1/AppData/Local/Temp/abs_d03ou8px8s/croots/recipe/python-lsp-server_1661813818824/work\n",
      "python-slugify @ file:///tmp/build/80754af9/python-slugify_1620405669636/work\n",
      "python-snappy @ file:///C:/ci/python-snappy_1610115316141/work\n",
      "pytz==2022.7\n",
      "pyviz-comms @ file:///tmp/build/80754af9/pyviz_comms_1623747165329/work\n",
      "PyWavelets @ file:///C:/ci/pywavelets_1648728036674/work\n",
      "pywin32==227\n",
      "pywin32-ctypes @ file:///C:/ci/pywin32-ctypes_1594392691209/work\n",
      "pywinpty @ file:///C:/ci_310/pywinpty_1644230983541/work/target/wheels/pywinpty-2.0.2-cp37-none-win_amd64.whl\n",
      "PyYAML==5.4.1\n",
      "pyzmq @ file:///C:/ci/pyzmq_1657597757589/work\n",
      "QDarkStyle @ file:///tmp/build/80754af9/qdarkstyle_1617386714626/work\n",
      "qstylizer @ file:///tmp/build/80754af9/qstylizer_1617713584600/work/dist/qstylizer-0.1.10-py2.py3-none-any.whl\n",
      "QtAwesome @ file:///tmp/build/80754af9/qtawesome_1637160816833/work\n",
      "qtconsole @ file:///C:/ci/qtconsole_1662000803331/work\n",
      "QtPy @ file:///C:/ci/qtpy_1662015131946/work\n",
      "querystring-parser==1.2.4\n",
      "queuelib==1.5.0\n",
      "regex @ file:///C:/ci/regex_1658240061426/work\n",
      "requests @ file:///C:/ci/requests_1657735288441/work\n",
      "requests-file @ file:///Users/ktietz/demo/mc3/conda-bld/requests-file_1629455781986/work\n",
      "requests-oauthlib==1.3.1\n",
      "rope @ file:///opt/conda/conda-bld/rope_1643788605236/work\n",
      "rsa @ file:///tmp/build/80754af9/rsa_1614366226499/work\n",
      "Rtree @ file:///C:/ci/rtree_1618421019532/work\n",
      "ruamel-yaml-conda @ file:///C:/ci/ruamel_yaml_1616016865685/work\n",
      "s3transfer @ file:///C:/ci/s3transfer_1654512578132/work\n",
      "scikit-image @ file:///C:/ci/scikit-image_1648196140109/work\n",
      "scikit-learn @ file:///C:/ci/scikit-learn_1642599122269/work\n",
      "scikit-learn-intelex==2021.20220215.153008\n",
      "scipy @ file:///C:/ci/scipy_1661333074914/work\n",
      "Scrapy @ file:///C:/Windows/TEMP/abs_f50e21j997/croots/recipe/scrapy_1659598707153/work\n",
      "seaborn @ file:///tmp/build/80754af9/seaborn_1629307859561/work\n",
      "SecretStorage==3.3.3\n",
      "Send2Trash @ file:///tmp/build/80754af9/send2trash_1632406701022/work\n",
      "service-identity @ file:///Users/ktietz/demo/mc3/conda-bld/service_identity_1629460757137/work\n",
      "simplegeneric==0.8.1\n",
      "simplejson==3.17.6\n",
      "singledispatch==3.4.0.3\n",
      "sip==4.19.13\n",
      "six @ file:///tmp/build/80754af9/six_1644875935023/work\n",
      "smart-open @ file:///C:/ci/smart_open_1651235068161/work\n",
      "smmap==5.0.0\n",
      "sniffio @ file:///C:/ci/sniffio_1614030522573/work\n",
      "snowballstemmer @ file:///tmp/build/80754af9/snowballstemmer_1637937080595/work\n",
      "sortedcollections @ file:///tmp/build/80754af9/sortedcollections_1611172717284/work\n",
      "sortedcontainers @ file:///tmp/build/80754af9/sortedcontainers_1623949099177/work\n",
      "soupsieve @ file:///tmp/build/80754af9/soupsieve_1636706018808/work\n",
      "Sphinx @ file:///C:/ci/sphinx_1657617212289/work\n",
      "sphinxcontrib-applehelp @ file:///home/ktietz/src/ci/sphinxcontrib-applehelp_1611920841464/work\n",
      "sphinxcontrib-devhelp @ file:///home/ktietz/src/ci/sphinxcontrib-devhelp_1611920923094/work\n",
      "sphinxcontrib-htmlhelp @ file:///tmp/build/80754af9/sphinxcontrib-htmlhelp_1623945626792/work\n",
      "sphinxcontrib-jsmath @ file:///home/ktietz/src/ci/sphinxcontrib-jsmath_1611920942228/work\n",
      "sphinxcontrib-qthelp @ file:///home/ktietz/src/ci/sphinxcontrib-qthelp_1611921055322/work\n",
      "sphinxcontrib-serializinghtml @ file:///tmp/build/80754af9/sphinxcontrib-serializinghtml_1624451540180/work\n",
      "sphinxcontrib-websupport==1.1.0\n",
      "spyder==3.3.3\n",
      "spyder-kernels==0.4.2\n",
      "SQLAlchemy @ file:///C:/Windows/Temp/abs_f8661157-660b-49bb-a790-69ab9f3b8f7c8a8s2psb/croots/recipe/sqlalchemy_1657867864564/work\n",
      "sqlparse==0.4.3\n",
      "statsmodels==0.13.0\n",
      "sympy @ file:///C:/ci/sympy_1647853865212/work\n",
      "ta==0.10.2\n",
      "tables==3.6.1\n",
      "tabulate @ file:///C:/ci/tabulate_1657619049490/work\n",
      "TBB==0.2\n",
      "tblib @ file:///Users/ktietz/demo/mc3/conda-bld/tblib_1629402031467/work\n",
      "tenacity @ file:///C:/Windows/TEMP/abs_980d07a6-8e21-4174-9c17-7296219678ads7dhdov_/croots/recipe/tenacity_1657899108023/work\n",
      "terminado @ file:///C:/ci/terminado_1644322782754/work\n",
      "testpath @ file:///C:/Windows/TEMP/abs_23c7fa33-cbb9-46dc-b7c5-590c38e2de3d4bmbngal/croots/recipe/testpath_1655908553202/work\n",
      "text-unidecode @ file:///Users/ktietz/demo/mc3/conda-bld/text-unidecode_1629401354553/work\n",
      "textdistance @ file:///tmp/build/80754af9/textdistance_1612461398012/work\n",
      "threadpoolctl==3.0.0\n",
      "three-merge @ file:///tmp/build/80754af9/three-merge_1607553261110/work\n",
      "tifffile @ file:///tmp/build/80754af9/tifffile_1627275862826/work\n",
      "tinycss @ file:///tmp/build/80754af9/tinycss_1617713798712/work\n",
      "tldextract @ file:///opt/conda/conda-bld/tldextract_1646638314385/work\n",
      "toml @ file:///tmp/build/80754af9/toml_1616166611790/work\n",
      "tomli @ file:///C:/Windows/TEMP/abs_ac109f85-a7b3-4b4d-bcfd-52622eceddf0hy332ojo/croots/recipe/tomli_1657175513137/work\n",
      "tomlkit @ file:///C:/Windows/TEMP/abs_3296qo9v6b/croots/recipe/tomlkit_1658946894808/work\n",
      "toolz @ file:///tmp/build/80754af9/toolz_1636545406491/work\n",
      "tornado @ file:///C:/ci/tornado_1662476933490/work\n",
      "tqdm @ file:///C:/ci/tqdm_1650636251715/work\n",
      "traitlets @ file:///tmp/build/80754af9/traitlets_1636710298902/work\n",
      "Twisted @ file:///C:/Windows/Temp/abs_ccblv2rzfa/croots/recipe/twisted_1659592764512/work\n",
      "twisted-iocpsupport @ file:///C:/ci/twisted-iocpsupport_1646817106095/work\n",
      "typed-ast @ file:///C:/ci/typed-ast_1624953789477/work\n",
      "typing_extensions==4.3.0\n",
      "ujson @ file:///C:/ci/ujson_1657507700248/work\n",
      "unicodecsv==0.14.1\n",
      "Unidecode @ file:///tmp/build/80754af9/unidecode_1614712377438/work\n",
      "urllib3==1.26.7\n",
      "w3lib @ file:///Users/ktietz/demo/mc3/conda-bld/w3lib_1629359764703/work\n",
      "waitress==2.1.2\n",
      "watchdog @ file:///C:/ci/watchdog_1638367455435/work\n",
      "wcwidth @ file:///Users/ktietz/demo/mc3/conda-bld/wcwidth_1629357192024/work\n",
      "webencodings==0.5.1\n",
      "websocket-client==1.2.1\n",
      "Werkzeug @ file:///opt/conda/conda-bld/werkzeug_1645628268370/work\n",
      "whatthepatch @ file:///C:/Users/BUILDE~1/AppData/Local/Temp/abs_e7bihs8grh/croots/recipe/whatthepatch_1661796085215/work\n",
      "widgetsnbextension @ file:///C:/ci/widgetsnbextension_1645009553925/work\n",
      "win-inet-pton @ file:///C:/ci/win_inet_pton_1605306165655/work\n",
      "win-unicode-console==0.5\n",
      "wincertstore==0.2\n",
      "wrapt @ file:///C:/Windows/Temp/abs_7c3dd407-1390-477a-b542-fd15df6a24085_diwiza/croots/recipe/wrapt_1657814452175/work\n",
      "xarray @ file:///opt/conda/conda-bld/xarray_1639166117697/work\n",
      "xgboost==1.6.2\n",
      "xlrd @ file:///tmp/build/80754af9/xlrd_1608072521494/work\n",
      "XlsxWriter @ file:///opt/conda/conda-bld/xlsxwriter_1649073856329/work\n",
      "xlwings==0.24.9\n",
      "xlwt==1.3.0\n",
      "yapf @ file:///tmp/build/80754af9/yapf_1615749224965/work\n",
      "yarl @ file:///C:/Users/BUILDE~1/AppData/Local/Temp/abs_e5nlunspj6/croots/recipe/yarl_1661437086516/work\n",
      "yfinance==0.2.3\n",
      "zict==2.1.0\n",
      "zipp==3.8.1\n",
      "zope.interface @ file:///C:/ci/zope.interface_1625036257680/work\n"
     ]
    },
    {
     "name": "stderr",
     "output_type": "stream",
     "text": [
      "WARNING: Ignoring invalid distribution -rotobuf (c:\\users\\pc\\appdata\\roaming\\python\\python37\\site-packages)\n"
     ]
    }
   ],
   "source": [
    "!pip freeze"
   ]
  },
  {
   "cell_type": "code",
   "execution_count": 2,
   "metadata": {
    "colab": {
     "base_uri": "https://localhost:8080/"
    },
    "executionInfo": {
     "elapsed": 8202,
     "status": "ok",
     "timestamp": 1648123928305,
     "user": {
      "displayName": "Chia-Chien Hung",
      "photoUrl": "https://lh3.googleusercontent.com/a/default-user=s64",
      "userId": "04879890229820011815"
     },
     "user_tz": -60
    },
    "id": "Qm6Q8gG8xSFH",
    "outputId": "0307cc68-1b9b-4f83-c28c-7dc88d4bff67"
   },
   "outputs": [
    {
     "name": "stdout",
     "output_type": "stream",
     "text": [
      "Name: nltk\n",
      "Version: 3.7\n",
      "Summary: Natural Language Toolkit\n",
      "Home-page: https://www.nltk.org/\n",
      "Author: NLTK Team\n",
      "Author-email: nltk.team@gmail.com\n",
      "License: Apache License, Version 2.0\n",
      "Location: c:\\users\\pc\\anaconda3\\lib\\site-packages\n",
      "Requires: click, joblib, regex, tqdm\n",
      "Required-by: \n"
     ]
    },
    {
     "name": "stderr",
     "output_type": "stream",
     "text": [
      "WARNING: Ignoring invalid distribution -rotobuf (c:\\users\\pc\\appdata\\roaming\\python\\python37\\site-packages)\n"
     ]
    }
   ],
   "source": [
    "!pip show nltk"
   ]
  },
  {
   "cell_type": "code",
   "execution_count": null,
   "metadata": {
    "executionInfo": {
     "elapsed": 18,
     "status": "ok",
     "timestamp": 1648123928307,
     "user": {
      "displayName": "Chia-Chien Hung",
      "photoUrl": "https://lh3.googleusercontent.com/a/default-user=s64",
      "userId": "04879890229820011815"
     },
     "user_tz": -60
    },
    "id": "jrMMQpfjMFfq"
   },
   "outputs": [],
   "source": [
    "# Initialize random seed to get consistent result\n",
    "import numpy as np\n",
    "import random\n",
    "RANDOM_SEED = 42\n",
    "random.seed(RANDOM_SEED)\n",
    "np.random.seed(RANDOM_SEED)"
   ]
  },
  {
   "cell_type": "markdown",
   "metadata": {
    "id": "XIFRexvWVwAH"
   },
   "source": [
    "# **2. Data Analysis**"
   ]
  },
  {
   "cell_type": "markdown",
   "metadata": {
    "id": "hh1Mk2vuwFFT"
   },
   "source": [
    "<!-- We'll use [The Corpus of Linguistic Acceptability (CoLA)](https://nyu-mll.github.io/CoLA/) dataset for single sentence classification. It's a set of sentences labeled as grammatically correct or incorrect. It was first published in May of 2018, and is one of the tests included in the [General Language Understanding Evaluation (GLUE) Benchmark](https://gluebenchmark.com/). -->\n",
    "We'll use [The Google Play reviews Dataset](https://curiousily.com/posts/create-dataset-for-sentiment-analysis-by-scraping-google-play-app-reviews-using-python/) provided by Venelin Valkov. The dataset can then be used for sentiment analysis classification.\n",
    "\n",
    "You can either download it locally and reupload it in specific folder in your Google Drive, or you can simply run the following code to download it."
   ]
  },
  {
   "cell_type": "code",
   "execution_count": 4,
   "metadata": {
    "colab": {
     "base_uri": "https://localhost:8080/",
     "height": 355
    },
    "executionInfo": {
     "elapsed": 1419,
     "status": "ok",
     "timestamp": 1648123966250,
     "user": {
      "displayName": "Chia-Chien Hung",
      "photoUrl": "https://lh3.googleusercontent.com/a/default-user=s64",
      "userId": "04879890229820011815"
     },
     "user_tz": -60
    },
    "id": "h4O91aJ6Sj7R",
    "outputId": "9119b7b1-d0c1-46b3-f2da-bf3a69ce927a"
   },
   "outputs": [
    {
     "name": "stdout",
     "output_type": "stream",
     "text": [
      "(15746, 11)\n"
     ]
    },
    {
     "data": {
      "text/html": [
       "<div>\n",
       "<style scoped>\n",
       "    .dataframe tbody tr th:only-of-type {\n",
       "        vertical-align: middle;\n",
       "    }\n",
       "\n",
       "    .dataframe tbody tr th {\n",
       "        vertical-align: top;\n",
       "    }\n",
       "\n",
       "    .dataframe thead th {\n",
       "        text-align: right;\n",
       "    }\n",
       "</style>\n",
       "<table border=\"1\" class=\"dataframe\">\n",
       "  <thead>\n",
       "    <tr style=\"text-align: right;\">\n",
       "      <th></th>\n",
       "      <th>userName</th>\n",
       "      <th>userImage</th>\n",
       "      <th>content</th>\n",
       "      <th>score</th>\n",
       "      <th>thumbsUpCount</th>\n",
       "      <th>reviewCreatedVersion</th>\n",
       "      <th>at</th>\n",
       "      <th>replyContent</th>\n",
       "      <th>repliedAt</th>\n",
       "      <th>sortOrder</th>\n",
       "      <th>appId</th>\n",
       "    </tr>\n",
       "  </thead>\n",
       "  <tbody>\n",
       "    <tr>\n",
       "      <th>0</th>\n",
       "      <td>Andrew Thomas</td>\n",
       "      <td>https://lh3.googleusercontent.com/a-/AOh14GiHd...</td>\n",
       "      <td>Update: After getting a response from the deve...</td>\n",
       "      <td>1</td>\n",
       "      <td>21</td>\n",
       "      <td>4.17.0.3</td>\n",
       "      <td>2020-04-05 22:25:57</td>\n",
       "      <td>According to our TOS, and the term you have ag...</td>\n",
       "      <td>2020-04-05 15:10:24</td>\n",
       "      <td>most_relevant</td>\n",
       "      <td>com.anydo</td>\n",
       "    </tr>\n",
       "    <tr>\n",
       "      <th>1</th>\n",
       "      <td>Craig Haines</td>\n",
       "      <td>https://lh3.googleusercontent.com/-hoe0kwSJgPQ...</td>\n",
       "      <td>Used it for a fair amount of time without any ...</td>\n",
       "      <td>1</td>\n",
       "      <td>11</td>\n",
       "      <td>4.17.0.3</td>\n",
       "      <td>2020-04-04 13:40:01</td>\n",
       "      <td>It sounds like you logged in with a different ...</td>\n",
       "      <td>2020-04-05 15:11:35</td>\n",
       "      <td>most_relevant</td>\n",
       "      <td>com.anydo</td>\n",
       "    </tr>\n",
       "    <tr>\n",
       "      <th>2</th>\n",
       "      <td>steven adkins</td>\n",
       "      <td>https://lh3.googleusercontent.com/a-/AOh14GiXw...</td>\n",
       "      <td>Your app sucks now!!!!! Used to be good but no...</td>\n",
       "      <td>1</td>\n",
       "      <td>17</td>\n",
       "      <td>4.17.0.3</td>\n",
       "      <td>2020-04-01 16:18:13</td>\n",
       "      <td>This sounds odd! We are not aware of any issue...</td>\n",
       "      <td>2020-04-02 16:05:56</td>\n",
       "      <td>most_relevant</td>\n",
       "      <td>com.anydo</td>\n",
       "    </tr>\n",
       "    <tr>\n",
       "      <th>3</th>\n",
       "      <td>Lars Panzerbjørn</td>\n",
       "      <td>https://lh3.googleusercontent.com/a-/AOh14Gg-h...</td>\n",
       "      <td>It seems OK, but very basic. Recurring tasks n...</td>\n",
       "      <td>1</td>\n",
       "      <td>192</td>\n",
       "      <td>4.17.0.2</td>\n",
       "      <td>2020-03-12 08:17:34</td>\n",
       "      <td>We do offer this option as part of the Advance...</td>\n",
       "      <td>2020-03-15 06:20:13</td>\n",
       "      <td>most_relevant</td>\n",
       "      <td>com.anydo</td>\n",
       "    </tr>\n",
       "    <tr>\n",
       "      <th>4</th>\n",
       "      <td>Scott Prewitt</td>\n",
       "      <td>https://lh3.googleusercontent.com/-K-X1-YsVd6U...</td>\n",
       "      <td>Absolutely worthless. This app runs a prohibit...</td>\n",
       "      <td>1</td>\n",
       "      <td>42</td>\n",
       "      <td>4.17.0.2</td>\n",
       "      <td>2020-03-14 17:41:01</td>\n",
       "      <td>We're sorry you feel this way! 90% of the app ...</td>\n",
       "      <td>2020-03-15 23:45:51</td>\n",
       "      <td>most_relevant</td>\n",
       "      <td>com.anydo</td>\n",
       "    </tr>\n",
       "  </tbody>\n",
       "</table>\n",
       "</div>"
      ],
      "text/plain": [
       "           userName                                          userImage  \\\n",
       "0     Andrew Thomas  https://lh3.googleusercontent.com/a-/AOh14GiHd...   \n",
       "1      Craig Haines  https://lh3.googleusercontent.com/-hoe0kwSJgPQ...   \n",
       "2     steven adkins  https://lh3.googleusercontent.com/a-/AOh14GiXw...   \n",
       "3  Lars Panzerbjørn  https://lh3.googleusercontent.com/a-/AOh14Gg-h...   \n",
       "4     Scott Prewitt  https://lh3.googleusercontent.com/-K-X1-YsVd6U...   \n",
       "\n",
       "                                             content  score  thumbsUpCount  \\\n",
       "0  Update: After getting a response from the deve...      1             21   \n",
       "1  Used it for a fair amount of time without any ...      1             11   \n",
       "2  Your app sucks now!!!!! Used to be good but no...      1             17   \n",
       "3  It seems OK, but very basic. Recurring tasks n...      1            192   \n",
       "4  Absolutely worthless. This app runs a prohibit...      1             42   \n",
       "\n",
       "  reviewCreatedVersion                   at  \\\n",
       "0             4.17.0.3  2020-04-05 22:25:57   \n",
       "1             4.17.0.3  2020-04-04 13:40:01   \n",
       "2             4.17.0.3  2020-04-01 16:18:13   \n",
       "3             4.17.0.2  2020-03-12 08:17:34   \n",
       "4             4.17.0.2  2020-03-14 17:41:01   \n",
       "\n",
       "                                        replyContent            repliedAt  \\\n",
       "0  According to our TOS, and the term you have ag...  2020-04-05 15:10:24   \n",
       "1  It sounds like you logged in with a different ...  2020-04-05 15:11:35   \n",
       "2  This sounds odd! We are not aware of any issue...  2020-04-02 16:05:56   \n",
       "3  We do offer this option as part of the Advance...  2020-03-15 06:20:13   \n",
       "4  We're sorry you feel this way! 90% of the app ...  2020-03-15 23:45:51   \n",
       "\n",
       "       sortOrder      appId  \n",
       "0  most_relevant  com.anydo  \n",
       "1  most_relevant  com.anydo  \n",
       "2  most_relevant  com.anydo  \n",
       "3  most_relevant  com.anydo  \n",
       "4  most_relevant  com.anydo  "
      ]
     },
     "execution_count": 4,
     "metadata": {},
     "output_type": "execute_result"
    }
   ],
   "source": [
    "# Load the data via pandas\n",
    "import pandas as pd\n",
    "df = pd.read_csv(\"reviews.csv\")\n",
    "print(df.shape)\n",
    "df.head()"
   ]
  },
  {
   "cell_type": "code",
   "execution_count": 5,
   "metadata": {
    "colab": {
     "base_uri": "https://localhost:8080/"
    },
    "executionInfo": {
     "elapsed": 236,
     "status": "ok",
     "timestamp": 1648123973277,
     "user": {
      "displayName": "Chia-Chien Hung",
      "photoUrl": "https://lh3.googleusercontent.com/a/default-user=s64",
      "userId": "04879890229820011815"
     },
     "user_tz": -60
    },
    "id": "8wnXWebjTecS",
    "outputId": "b2350e44-fae6-41a6-85fc-a45b22f241fa"
   },
   "outputs": [
    {
     "data": {
      "text/html": [
       "<div>\n",
       "<style scoped>\n",
       "    .dataframe tbody tr th:only-of-type {\n",
       "        vertical-align: middle;\n",
       "    }\n",
       "\n",
       "    .dataframe tbody tr th {\n",
       "        vertical-align: top;\n",
       "    }\n",
       "\n",
       "    .dataframe thead th {\n",
       "        text-align: right;\n",
       "    }\n",
       "</style>\n",
       "<table border=\"1\" class=\"dataframe\">\n",
       "  <thead>\n",
       "    <tr style=\"text-align: right;\">\n",
       "      <th></th>\n",
       "      <th>score</th>\n",
       "      <th>thumbsUpCount</th>\n",
       "    </tr>\n",
       "  </thead>\n",
       "  <tbody>\n",
       "    <tr>\n",
       "      <th>count</th>\n",
       "      <td>15746.000000</td>\n",
       "      <td>15746.000000</td>\n",
       "    </tr>\n",
       "    <tr>\n",
       "      <th>mean</th>\n",
       "      <td>3.062365</td>\n",
       "      <td>3.992570</td>\n",
       "    </tr>\n",
       "    <tr>\n",
       "      <th>std</th>\n",
       "      <td>1.310503</td>\n",
       "      <td>17.058478</td>\n",
       "    </tr>\n",
       "    <tr>\n",
       "      <th>min</th>\n",
       "      <td>1.000000</td>\n",
       "      <td>0.000000</td>\n",
       "    </tr>\n",
       "    <tr>\n",
       "      <th>25%</th>\n",
       "      <td>2.000000</td>\n",
       "      <td>0.000000</td>\n",
       "    </tr>\n",
       "    <tr>\n",
       "      <th>50%</th>\n",
       "      <td>3.000000</td>\n",
       "      <td>0.000000</td>\n",
       "    </tr>\n",
       "    <tr>\n",
       "      <th>75%</th>\n",
       "      <td>4.000000</td>\n",
       "      <td>1.000000</td>\n",
       "    </tr>\n",
       "    <tr>\n",
       "      <th>max</th>\n",
       "      <td>5.000000</td>\n",
       "      <td>448.000000</td>\n",
       "    </tr>\n",
       "  </tbody>\n",
       "</table>\n",
       "</div>"
      ],
      "text/plain": [
       "              score  thumbsUpCount\n",
       "count  15746.000000   15746.000000\n",
       "mean       3.062365       3.992570\n",
       "std        1.310503      17.058478\n",
       "min        1.000000       0.000000\n",
       "25%        2.000000       0.000000\n",
       "50%        3.000000       0.000000\n",
       "75%        4.000000       1.000000\n",
       "max        5.000000     448.000000"
      ]
     },
     "execution_count": 5,
     "metadata": {},
     "output_type": "execute_result"
    }
   ],
   "source": [
    "# Print the data infos & check for missing values\n",
    "df.describe()"
   ]
  },
  {
   "cell_type": "code",
   "execution_count": 6,
   "metadata": {
    "colab": {
     "base_uri": "https://localhost:8080/",
     "height": 206
    },
    "executionInfo": {
     "elapsed": 234,
     "status": "ok",
     "timestamp": 1648123978199,
     "user": {
      "displayName": "Chia-Chien Hung",
      "photoUrl": "https://lh3.googleusercontent.com/a/default-user=s64",
      "userId": "04879890229820011815"
     },
     "user_tz": -60
    },
    "id": "nbVu7OicV2bB",
    "outputId": "2e91d65c-253c-433a-a2f2-f479f2a6b0ed"
   },
   "outputs": [
    {
     "data": {
      "text/html": [
       "<div>\n",
       "<style scoped>\n",
       "    .dataframe tbody tr th:only-of-type {\n",
       "        vertical-align: middle;\n",
       "    }\n",
       "\n",
       "    .dataframe tbody tr th {\n",
       "        vertical-align: top;\n",
       "    }\n",
       "\n",
       "    .dataframe thead th {\n",
       "        text-align: right;\n",
       "    }\n",
       "</style>\n",
       "<table border=\"1\" class=\"dataframe\">\n",
       "  <thead>\n",
       "    <tr style=\"text-align: right;\">\n",
       "      <th></th>\n",
       "      <th>content</th>\n",
       "      <th>score</th>\n",
       "    </tr>\n",
       "  </thead>\n",
       "  <tbody>\n",
       "    <tr>\n",
       "      <th>0</th>\n",
       "      <td>Update: After getting a response from the deve...</td>\n",
       "      <td>1</td>\n",
       "    </tr>\n",
       "    <tr>\n",
       "      <th>1</th>\n",
       "      <td>Used it for a fair amount of time without any ...</td>\n",
       "      <td>1</td>\n",
       "    </tr>\n",
       "    <tr>\n",
       "      <th>2</th>\n",
       "      <td>Your app sucks now!!!!! Used to be good but no...</td>\n",
       "      <td>1</td>\n",
       "    </tr>\n",
       "    <tr>\n",
       "      <th>3</th>\n",
       "      <td>It seems OK, but very basic. Recurring tasks n...</td>\n",
       "      <td>1</td>\n",
       "    </tr>\n",
       "    <tr>\n",
       "      <th>4</th>\n",
       "      <td>Absolutely worthless. This app runs a prohibit...</td>\n",
       "      <td>1</td>\n",
       "    </tr>\n",
       "  </tbody>\n",
       "</table>\n",
       "</div>"
      ],
      "text/plain": [
       "                                             content  score\n",
       "0  Update: After getting a response from the deve...      1\n",
       "1  Used it for a fair amount of time without any ...      1\n",
       "2  Your app sucks now!!!!! Used to be good but no...      1\n",
       "3  It seems OK, but very basic. Recurring tasks n...      1\n",
       "4  Absolutely worthless. This app runs a prohibit...      1"
      ]
     },
     "execution_count": 6,
     "metadata": {},
     "output_type": "execute_result"
    }
   ],
   "source": [
    "# Actually we only need the content(i.e. review) & the sentiment score for classification\n",
    "df = df[['content', 'score']]\n",
    "df.head(5)"
   ]
  },
  {
   "cell_type": "code",
   "execution_count": 7,
   "metadata": {
    "colab": {
     "base_uri": "https://localhost:8080/",
     "height": 334
    },
    "executionInfo": {
     "elapsed": 783,
     "status": "ok",
     "timestamp": 1648123983896,
     "user": {
      "displayName": "Chia-Chien Hung",
      "photoUrl": "https://lh3.googleusercontent.com/a/default-user=s64",
      "userId": "04879890229820011815"
     },
     "user_tz": -60
    },
    "id": "1aRee_tWWhGq",
    "outputId": "dbbae3c3-f70c-4495-e766-216f7b8bb41b"
   },
   "outputs": [
    {
     "data": {
      "image/png": "[encoded data removed]",
      "text/plain": [
       "<Figure size 640x480 with 1 Axes>"
      ]
     },
     "metadata": {},
     "output_type": "display_data"
    }
   ],
   "source": [
    "# We can plot the score & check for the distribution\n",
    "import seaborn as sns\n",
    "import matplotlib.pyplot as plt\n",
    "sns.countplot(x=df.score)\n",
    "plt.show()"
   ]
  },
  {
   "cell_type": "code",
   "execution_count": 9,
   "metadata": {
    "colab": {
     "base_uri": "https://localhost:8080/",
     "height": 351
    },
    "executionInfo": {
     "elapsed": 744,
     "status": "ok",
     "timestamp": 1648123988459,
     "user": {
      "displayName": "Chia-Chien Hung",
      "photoUrl": "https://lh3.googleusercontent.com/a/default-user=s64",
      "userId": "04879890229820011815"
     },
     "user_tz": -60
    },
    "id": "w8QhZTegZR-l",
    "outputId": "85e59727-8e59-4094-888b-10ffe9d9bead"
   },
   "outputs": [
    {
     "data": {
      "text/plain": [
       "[Text(0, 0, 'negative'), Text(1, 0, 'neutral'), Text(2, 0, 'positive')]"
      ]
     },
     "execution_count": 9,
     "metadata": {},
     "output_type": "execute_result"
    },
    {
     "data": {
      "image/png": "[encoded data removed]",
      "text/plain": [
       "<Figure size 640x480 with 1 Axes>"
      ]
     },
     "metadata": {},
     "output_type": "display_data"
    }
   ],
   "source": [
    "# Since it's highly imbalanced, we can convert the score into 3 categories: negative(<3), neutral(=3), positive(>3)\n",
    "# And replot it\n",
    "def to_sentiment(score):\n",
    "    score = int(score)\n",
    "    if score <= 2:\n",
    "        return 0\n",
    "    elif score == 3:\n",
    "        return 1\n",
    "    else:\n",
    "        return 2\n",
    "df['sentiment'] = df.score.apply(to_sentiment)\n",
    "\n",
    "# Plot the score distribution after conversion\n",
    "ax = sns.countplot(x=df.sentiment)\n",
    "class_names = ['negative', 'neutral', 'positive']\n",
    "plt.xlabel('review sentiment')\n",
    "ax.set_xticklabels(class_names)"
   ]
  },
  {
   "cell_type": "markdown",
   "metadata": {
    "id": "UCgy1XjEcEQT"
   },
   "source": [
    "# **3. Preprocessing**"
   ]
  },
  {
   "cell_type": "code",
   "execution_count": 10,
   "metadata": {
    "colab": {
     "base_uri": "https://localhost:8080/",
     "height": 70
    },
    "executionInfo": {
     "elapsed": 272,
     "status": "ok",
     "timestamp": 1648123994745,
     "user": {
      "displayName": "Chia-Chien Hung",
      "photoUrl": "https://lh3.googleusercontent.com/a/default-user=s64",
      "userId": "04879890229820011815"
     },
     "user_tz": -60
    },
    "id": "19FMY8c7b_1C",
    "outputId": "ebb78b1c-17cf-4450-f985-de96f7870d90"
   },
   "outputs": [
    {
     "data": {
      "text/plain": [
       "\"Update: After getting a response from the developer I would change my rating to 0 stars if possible. These guys hide behind confusing and opaque terms and refuse to budge at all. I'm so annoyed that my money has been lost to them! Really terrible customer experience. Original: Be very careful when signing up for a free trial of this app. If you happen to go over they automatically charge you for a full years subscription and refuse to refund. Terrible customer experience and the app is just OK.\""
      ]
     },
     "execution_count": 10,
     "metadata": {},
     "output_type": "execute_result"
    }
   ],
   "source": [
    "# Before preprocessing, we can first check the review content\n",
    "df.content[0]"
   ]
  },
  {
   "cell_type": "code",
   "execution_count": 11,
   "metadata": {
    "colab": {
     "base_uri": "https://localhost:8080/",
     "height": 70
    },
    "executionInfo": {
     "elapsed": 472,
     "status": "ok",
     "timestamp": 1648123997897,
     "user": {
      "displayName": "Chia-Chien Hung",
      "photoUrl": "https://lh3.googleusercontent.com/a/default-user=s64",
      "userId": "04879890229820011815"
     },
     "user_tz": -60
    },
    "id": "vgEB9R0hdi_f",
    "outputId": "aa9bee74-ebce-45de-a93d-5bb1db604dca"
   },
   "outputs": [
    {
     "data": {
      "text/plain": [
       "\"It seems OK, but very basic. Recurring tasks need some work to be actually useful. For example, it would be nice to be able to set a task to be recurring on the first of every month, without only being able to set that up on the first of the month. Edit; I also just noticed that there is no dark theme. Both may be available as paid for options, but I'll never know, since they are basic options and without them, I have no reason to try this app, and thus will never pay for actual premium options.\""
      ]
     },
     "execution_count": 11,
     "metadata": {},
     "output_type": "execute_result"
    }
   ],
   "source": [
    "df.content[3]"
   ]
  },
  {
   "cell_type": "markdown",
   "metadata": {
    "id": "_BPXrTKHe086"
   },
   "source": [
    "## **3.1 Tokenization**\n",
    "<div>\n",
    "<img src=https://drive.google.com/uc?export=view&id=1h0ZNzohff1nUWMerrW50eDxY99ArRJTK width=\"800\">\n",
    "</div>\n",
    "\n",
    "With any typical NLP task, one of the first steps is to tokenize your pieces of text into its individual words/tokens (process demonstrated in the figure above), the result of which is used to create so-called vocabularies that will be used in the langauge model you plan to build. This is actually one of the techniques that we will use the most throughout this series but here we stick to the basics.\n",
    "\n",
    "Below I am showing you an example of a simple tokenizer without following any standards. All it does is extract tokens based on a white space seperator."
   ]
  },
  {
   "cell_type": "code",
   "execution_count": 12,
   "metadata": {
    "colab": {
     "base_uri": "https://localhost:8080/"
    },
    "executionInfo": {
     "elapsed": 222,
     "status": "ok",
     "timestamp": 1648124018952,
     "user": {
      "displayName": "Chia-Chien Hung",
      "photoUrl": "https://lh3.googleusercontent.com/a/default-user=s64",
      "userId": "04879890229820011815"
     },
     "user_tz": -60
    },
    "id": "9YB4Yd-9erXB",
    "outputId": "326cf9b1-2852-4327-c62d-8da6fea2c87b",
    "scrolled": true
   },
   "outputs": [
    {
     "name": "stdout",
     "output_type": "stream",
     "text": [
      "Token 0: Update:\n",
      "Token 1: After\n",
      "Token 2: getting\n",
      "Token 3: a\n",
      "Token 4: response\n",
      "Token 5: from\n",
      "Token 6: the\n",
      "Token 7: developer\n",
      "Token 8: I\n",
      "Token 9: would\n",
      "Token 10: change\n",
      "Token 11: my\n",
      "Token 12: rating\n",
      "Token 13: to\n",
      "Token 14: 0\n",
      "Token 15: stars\n",
      "Token 16: if\n",
      "Token 17: possible.\n",
      "Token 18: These\n",
      "Token 19: guys\n",
      "Token 20: hide\n",
      "Token 21: behind\n",
      "Token 22: confusing\n",
      "Token 23: and\n",
      "Token 24: opaque\n",
      "Token 25: terms\n",
      "Token 26: and\n",
      "Token 27: refuse\n",
      "Token 28: to\n",
      "Token 29: budge\n",
      "Token 30: at\n",
      "Token 31: all.\n",
      "Token 32: I'm\n",
      "Token 33: so\n",
      "Token 34: annoyed\n",
      "Token 35: that\n",
      "Token 36: my\n",
      "Token 37: money\n",
      "Token 38: has\n",
      "Token 39: been\n",
      "Token 40: lost\n",
      "Token 41: to\n",
      "Token 42: them!\n",
      "Token 43: Really\n",
      "Token 44: terrible\n",
      "Token 45: customer\n",
      "Token 46: experience.\n",
      "Token 47: Original:\n",
      "Token 48: Be\n",
      "Token 49: very\n",
      "Token 50: careful\n",
      "Token 51: when\n",
      "Token 52: signing\n",
      "Token 53: up\n",
      "Token 54: for\n",
      "Token 55: a\n",
      "Token 56: free\n",
      "Token 57: trial\n",
      "Token 58: of\n",
      "Token 59: this\n",
      "Token 60: app.\n",
      "Token 61: If\n",
      "Token 62: you\n",
      "Token 63: happen\n",
      "Token 64: to\n",
      "Token 65: go\n",
      "Token 66: over\n",
      "Token 67: they\n",
      "Token 68: automatically\n",
      "Token 69: charge\n",
      "Token 70: you\n",
      "Token 71: for\n",
      "Token 72: a\n",
      "Token 73: full\n",
      "Token 74: years\n",
      "Token 75: subscription\n",
      "Token 76: and\n",
      "Token 77: refuse\n",
      "Token 78: to\n",
      "Token 79: refund.\n",
      "Token 80: Terrible\n",
      "Token 81: customer\n",
      "Token 82: experience\n",
      "Token 83: and\n",
      "Token 84: the\n",
      "Token 85: app\n",
      "Token 86: is\n",
      "Token 87: just\n",
      "Token 88: OK.\n"
     ]
    }
   ],
   "source": [
    "# You can simply use split to tokenize the text by whitespace\n",
    "doc = df.content[0]\n",
    "for i, w in enumerate(doc.split(\" \")):\n",
    "    print(\"Token \" + str(i) + \": \" + w)"
   ]
  },
  {
   "cell_type": "markdown",
   "metadata": {
    "id": "Pfwo0Oyc8Elz"
   },
   "source": [
    "**Question:**\n",
    "\n",
    "**(a) What are the problems here with only the split function for tokenization?**\n",
    "\n",
    "White space tokenization, where words are simply split by spaces, is a common technique for natural language processing (NLP). However, it can lead to several problems:\n",
    "\n",
    "* **Punctuation**: White space tokenization does not take into account punctuation marks, which can change the meaning of a sentence. For example, \"Let's eat, grandma!\" and \"Let's eat grandma!\" have completely different meanings.\n",
    "\n",
    "* **Contractions**: White space tokenization can also create problems with contractions, such as \"can't\" and \"won't\". These are typically treated as a single word, but can also be split into two words (\"can\" and \"not\").\n",
    "\n",
    "* **Hyphenated words**: White space tokenization can also have difficulty with hyphenated words, which can be treated as separate words or as a single unit depending on the context.\n",
    "\n",
    "* **Multi-word expressions**: White space tokenization also struggles with multi-word expressions, such as \"New York\" or \"United States\". These can be split into separate words or treated as a single unit depending on the context.\n",
    "\n",
    "* **Ambiguity**: White space tokenization can be ambiguous, especially when dealing with languages that do not use spaces to separate words, such as Chinese and Japanese. In these cases, the meaning of the text can change depending on how it is segmented.\n",
    "\n",
    "**(b) How can we improve the tokenization?**\n",
    "\n",
    "Tokenization can come in different forms. For instance, more recently a lot of state-of-the-art NLP models such as [BERT](https://arxiv.org/pdf/1810.04805.pdf) make use of `subword` tokens in which frequent combinations of characters also form part of the vocabulary. This helps to deal with the so-called out of vocabulary (OOV) problem. We will discuss this in upcoming chapters, but if you are interested in reading more about this now, check this [paper](https://static.googleusercontent.com/media/research.google.com/en//pubs/archive/37842.pdf)."
   ]
  },
  {
   "cell_type": "markdown",
   "metadata": {
    "id": "kOUlECPwYYj2"
   },
   "source": [
    "### **3.1.1 spaCy**\n",
    "\n",
    "To demonstrate how you can achieve more reliable tokenization, we are going to use [spaCy](https://spacy.io/), which is an impressive and robust Python library for natural language processing. It comes with pretrained pipelines and currently supports tokenization and training for 60+ languages. It features state-of-the-art speed and neural network models for tagging, parsing, named entity recognition, text classification and more.\n",
    "\n",
    "In particular, we are going to use the built-in tokenizer found [here](https://spacy.io/usage/linguistic-features#tokenization). You can also find the useful models for different languages [here](https://spacy.io/usage/models)."
   ]
  },
  {
   "cell_type": "code",
   "execution_count": 13,
   "metadata": {
    "colab": {
     "base_uri": "https://localhost:8080/"
    },
    "executionInfo": {
     "elapsed": 3076,
     "status": "ok",
     "timestamp": 1648124087535,
     "user": {
      "displayName": "Chia-Chien Hung",
      "photoUrl": "https://lh3.googleusercontent.com/a/default-user=s64",
      "userId": "04879890229820011815"
     },
     "user_tz": -60
    },
    "id": "Hjh2Wmjf8YMh",
    "outputId": "d89048a7-5e84-430d-e821-d817aaab4afb",
    "scrolled": true
   },
   "outputs": [
    {
     "name": "stderr",
     "output_type": "stream",
     "text": [
      "WARNING: Ignoring invalid distribution -rotobuf (c:\\users\\pc\\appdata\\roaming\\python\\python37\\site-packages)\n",
      "WARNING: Package(s) not found: spacy\n"
     ]
    }
   ],
   "source": [
    "# Colab has already spacy library installed\n",
    "!pip show spacy\n",
    "# If you don't have it in your local machine, you can simply download the libraries\n",
    "# !pip install -U spacy\n",
    "# !pip install -U spacy-lookups-data\n",
    "# !python -m spacy download en_core_web_sm"
   ]
  },
  {
   "cell_type": "code",
   "execution_count": null,
   "metadata": {
    "colab": {
     "base_uri": "https://localhost:8080/"
    },
    "executionInfo": {
     "elapsed": 1809,
     "status": "ok",
     "timestamp": 1648126796951,
     "user": {
      "displayName": "Chia-Chien Hung",
      "photoUrl": "https://lh3.googleusercontent.com/a/default-user=s64",
      "userId": "04879890229820011815"
     },
     "user_tz": -60
    },
    "id": "xpfzJRYL8dVB",
    "outputId": "2f850e4f-ccd9-4ed9-afd9-fc03486d0581",
    "scrolled": true
   },
   "outputs": [],
   "source": [
    "## Import the libraries\n",
    "import spacy\n",
    "## Load the language model for the language you need\n",
    "nlp = spacy.load(\"en_core_web_sm\")\n",
    "## Do tokenization\n",
    "doc = nlp(df.content[1])\n",
    "for i, token in enumerate(doc):\n",
    "    #print(\"Token {}: {}\".format(str(i), token.text))\n",
    "    print(\"Token {}: {} ({})\".format(str(i), token.text, token.pos_))"
   ]
  },
  {
   "cell_type": "markdown",
   "metadata": {
    "id": "X55d7q-dAleh"
   },
   "source": [
    "All the code does is tokenize the text based on a pre-built language model.\n",
    "\n",
    "Try putting different running text into the `nlp()` part of the code above. The tokenizer is quite robust and it includes a series of built-in rules that deal with exceptions and special cases such as those tokens that contain puctuations like \"`\" and \".\", \"-\", etc. You can even add your own rules, find out how [here](https://spacy.io/usage/linguistic-features#special-cases).\n",
    "\n",
    "Other tools you can use for tokenization are the [Keras Tokenizer API](https://www.tensorflow.org/api_docs/python/tf/keras/preprocessing/text/Tokenizer), [Hugging Face Tokenizer](https://github.com/huggingface/tokenizers) and [NLTK](https://www.nltk.org/), which we are going to use for our data.  \n",
    "\n",
    "---"
   ]
  },
  {
   "cell_type": "markdown",
   "metadata": {
    "id": "qseAQoTkZBhF"
   },
   "source": [
    "### **3.1.2 NLTK**\n",
    "\n",
    "[NLTK](https://www.nltk.org/) stands for **Natural Language Toolkit**. It is a leading platform for building Python programs to work with human language data. It provides easy-to-use interfaces to over 50 corpora and lexical resources such as WordNet, along with a suite of text processing libraries for classification, tokenization, stemming, tagging, parsing, and semantic reasoning, wrappers for industrial-strength NLP libraries."
   ]
  },
  {
   "cell_type": "code",
   "execution_count": null,
   "metadata": {
    "colab": {
     "base_uri": "https://localhost:8080/"
    },
    "executionInfo": {
     "elapsed": 1527,
     "status": "ok",
     "timestamp": 1648124156035,
     "user": {
      "displayName": "Chia-Chien Hung",
      "photoUrl": "https://lh3.googleusercontent.com/a/default-user=s64",
      "userId": "04879890229820011815"
     },
     "user_tz": -60
    },
    "id": "bWr3glXzDE5l",
    "outputId": "993ae205-cf29-4114-a7fd-eaa558edf3a2"
   },
   "outputs": [],
   "source": [
    "# Let's tokenize the data; we will do so using the nltk library \n",
    "import nltk\n",
    "nltk.download('punkt')"
   ]
  },
  {
   "cell_type": "code",
   "execution_count": null,
   "metadata": {
    "colab": {
     "base_uri": "https://localhost:8080/"
    },
    "executionInfo": {
     "elapsed": 8445,
     "status": "ok",
     "timestamp": 1648124166846,
     "user": {
      "displayName": "Chia-Chien Hung",
      "photoUrl": "https://lh3.googleusercontent.com/a/default-user=s64",
      "userId": "04879890229820011815"
     },
     "user_tz": -60
    },
    "id": "IXf_NCOsDULD",
    "outputId": "26cb386c-1084-495b-ed5c-523e1d509320"
   },
   "outputs": [],
   "source": [
    "%%time\n",
    "all_texts = list(df.content)\n",
    "all_texts_tokenized = [nltk.word_tokenize(t) for t in all_texts]\n",
    "print(all_texts_tokenized[0])"
   ]
  },
  {
   "cell_type": "markdown",
   "metadata": {
    "id": "1JdUNF24ZjuN"
   },
   "source": [
    "## **3.2 Emoji detection**\n",
    "\n",
    "Emoji lexicons are one of the key components for detecting emotions. \n",
    "Since emoji characters are a subset of a large Unicode character set, \n",
    "we will use the python package [emoji](https://github.com/carpedm20/emoji/) to demojize the emoji lexicons. "
   ]
  },
  {
   "cell_type": "code",
   "execution_count": null,
   "metadata": {
    "colab": {
     "base_uri": "https://localhost:8080/"
    },
    "executionInfo": {
     "elapsed": 5028,
     "status": "ok",
     "timestamp": 1648124191914,
     "user": {
      "displayName": "Chia-Chien Hung",
      "photoUrl": "https://lh3.googleusercontent.com/a/default-user=s64",
      "userId": "04879890229820011815"
     },
     "user_tz": -60
    },
    "id": "G2bgj-ca1NBG",
    "outputId": "3a5f88c8-0e53-4fe6-ebfc-e447ff60f763"
   },
   "outputs": [],
   "source": [
    "#!pip install emoji\n",
    "import emoji"
   ]
  },
  {
   "cell_type": "code",
   "execution_count": null,
   "metadata": {
    "colab": {
     "base_uri": "https://localhost:8080/"
    },
    "executionInfo": {
     "elapsed": 378,
     "status": "ok",
     "timestamp": 1648124198389,
     "user": {
      "displayName": "Chia-Chien Hung",
      "photoUrl": "https://lh3.googleusercontent.com/a/default-user=s64",
      "userId": "04879890229820011815"
     },
     "user_tz": -60
    },
    "id": "57_yRv_4bhX4",
    "outputId": "1de5d8c4-25c8-4324-cd9d-18b0e4b031a6"
   },
   "outputs": [],
   "source": [
    "# You can check a list of emoticons by emoji.UNICODE_EMOJI\n",
    "print('Supported languages: {}'.format(list(emoji.LANGUAGES)))\n",
    "print('First five emoticons with their english translation: {}'.format([(emoticon[0], emoticon[1]['en']) \n",
    "                                                                    for emoticon in list(emoji.EMOJI_DATA.items())[0:5]]))"
   ]
  },
  {
   "cell_type": "code",
   "execution_count": null,
   "metadata": {
    "colab": {
     "base_uri": "https://localhost:8080/"
    },
    "executionInfo": {
     "elapsed": 215,
     "status": "ok",
     "timestamp": 1648124207805,
     "user": {
      "displayName": "Chia-Chien Hung",
      "photoUrl": "https://lh3.googleusercontent.com/a/default-user=s64",
      "userId": "04879890229820011815"
     },
     "user_tz": -60
    },
    "id": "5SlFCQrva-Z2",
    "outputId": "7b5ea550-b063-499b-8c52-dbf75e25759c"
   },
   "outputs": [],
   "source": [
    "# We will first check one of the reviews which contain the emojis\n",
    "print(all_texts[15])"
   ]
  },
  {
   "cell_type": "code",
   "execution_count": null,
   "metadata": {
    "colab": {
     "base_uri": "https://localhost:8080/",
     "height": 53
    },
    "executionInfo": {
     "elapsed": 214,
     "status": "ok",
     "timestamp": 1648124210859,
     "user": {
      "displayName": "Chia-Chien Hung",
      "photoUrl": "https://lh3.googleusercontent.com/a/default-user=s64",
      "userId": "04879890229820011815"
     },
     "user_tz": -60
    },
    "id": "iLKPdroBa74B",
    "outputId": "05380498-b3b8-4aad-dc85-9052f038d55f"
   },
   "outputs": [],
   "source": [
    "# Then we will use the demojize function to convert unicode set to text\n",
    "emoji.demojize(all_texts[15], language='en')"
   ]
  },
  {
   "cell_type": "code",
   "execution_count": null,
   "metadata": {
    "colab": {
     "base_uri": "https://localhost:8080/"
    },
    "executionInfo": {
     "elapsed": 16683,
     "status": "ok",
     "timestamp": 1648124235676,
     "user": {
      "displayName": "Chia-Chien Hung",
      "photoUrl": "https://lh3.googleusercontent.com/a/default-user=s64",
      "userId": "04879890229820011815"
     },
     "user_tz": -60
    },
    "id": "9_JRXbV37u5Y",
    "outputId": "8e9f5115-c044-4bc5-e779-85c2ef59bc85"
   },
   "outputs": [],
   "source": [
    "# So to combine 3.1 tokenization and 3.2 Emoji detection together with lower case, we will do the following:\n",
    "all_texts = list(df.content)\n",
    "all_texts_preprocessed_tokenized = [nltk.word_tokenize(emoji.demojize(t.lower(), language='en')) for t in all_texts]\n",
    "print(all_texts_preprocessed_tokenized[15])\n",
    "all_texts_preprocessed = [' '.join(text) for text in all_texts_preprocessed_tokenized]\n",
    "print(all_texts_preprocessed[15])"
   ]
  },
  {
   "cell_type": "markdown",
   "metadata": {
    "id": "U9uveJKJeLHY"
   },
   "source": [
    "To fit your needs, there are also some common text preprocessing steps:\n",
    "* **lemmatization** (playing -> play)\n",
    "* **stemming** (troubled -> troubl)\n",
    "* **stop words removal** (a, the, is, are, ...)\n",
    "* **punctuation removal**\n",
    "* **abbreviation conversion** (b4 -> before)\n",
    "* **lower case** (The -> the) \n",
    "* **digits conversion** (1549 -> 0000)\n",
    "* **[regular expression](https://regexone.com/)**\n",
    "* **sentence segmentation**\n",
    "\n",
    "and more to explore.\n",
    "\n",
    "**We leave the above as exercises for you to try out.**"
   ]
  },
  {
   "cell_type": "code",
   "execution_count": null,
   "metadata": {
    "id": "rejv-8B3yLb3"
   },
   "outputs": [],
   "source": [
    "### Exercise: try out different preprocessing steps\n",
    "### Your turn"
   ]
  },
  {
   "cell_type": "code",
   "execution_count": null,
   "metadata": {
    "colab": {
     "base_uri": "https://localhost:8080/"
    },
    "executionInfo": {
     "elapsed": 2627,
     "status": "ok",
     "timestamp": 1648124247449,
     "user": {
      "displayName": "Chia-Chien Hung",
      "photoUrl": "https://lh3.googleusercontent.com/a/default-user=s64",
      "userId": "04879890229820011815"
     },
     "user_tz": -60
    },
    "id": "4DbwemmV_7eE",
    "outputId": "5f419b11-6a81-495e-f9b9-733b34b62db4",
    "scrolled": true
   },
   "outputs": [],
   "source": [
    "# Lemmatization\n",
    "import nltk\n",
    "nltk.download('wordnet')\n",
    "nltk.download('omw-1.4')\n",
    "from nltk.stem import WordNetLemmatizer\n",
    "lemmatizer = WordNetLemmatizer()\n",
    "\n",
    "print(\"am :\", lemmatizer.lemmatize(\"am\", pos=\"v\"))  \n",
    "print(\"are :\", lemmatizer.lemmatize(\"are\", pos=\"v\"))\n",
    "print(\"is :\", lemmatizer.lemmatize(\"is\", pos=\"v\"))\n",
    "print(\"was :\", lemmatizer.lemmatize(\"was\", pos=\"v\"))\n",
    "print(\"survival :\", lemmatizer.lemmatize(\"survival\"))"
   ]
  },
  {
   "cell_type": "code",
   "execution_count": null,
   "metadata": {
    "colab": {
     "base_uri": "https://localhost:8080/"
    },
    "executionInfo": {
     "elapsed": 262,
     "status": "ok",
     "timestamp": 1648124251537,
     "user": {
      "displayName": "Chia-Chien Hung",
      "photoUrl": "https://lh3.googleusercontent.com/a/default-user=s64",
      "userId": "04879890229820011815"
     },
     "user_tz": -60
    },
    "id": "Liy4gAoEAez0",
    "outputId": "b9ca21c8-fd3f-4515-ff80-3b47a9dbdc69"
   },
   "outputs": [],
   "source": [
    "# Stemming\n",
    "from nltk.stem import PorterStemmer\n",
    "stemmer = PorterStemmer()\n",
    "print(\"playing :\", stemmer.stem(\"playing\"))\n",
    "print(\"played :\", stemmer.stem(\"played\"))\n",
    "print(\"plays :\", stemmer.stem(\"plays\"))\n",
    "print(\"survival :\", stemmer.stem(\"survival\"))"
   ]
  },
  {
   "cell_type": "code",
   "execution_count": null,
   "metadata": {
    "colab": {
     "base_uri": "https://localhost:8080/"
    },
    "executionInfo": {
     "elapsed": 264,
     "status": "ok",
     "timestamp": 1648124255481,
     "user": {
      "displayName": "Chia-Chien Hung",
      "photoUrl": "https://lh3.googleusercontent.com/a/default-user=s64",
      "userId": "04879890229820011815"
     },
     "user_tz": -60
    },
    "id": "vDYQk4oWDdrn",
    "outputId": "47a659a5-6169-4850-d090-bce2def74028"
   },
   "outputs": [],
   "source": [
    "# Punctuations removal\n",
    "import string\n",
    "print(string.punctuation) \n",
    "doc = \"Welcome to web mining course!!!\"\n",
    "print(doc.translate(str.maketrans('', '', string.punctuation)))"
   ]
  },
  {
   "cell_type": "code",
   "execution_count": null,
   "metadata": {
    "colab": {
     "base_uri": "https://localhost:8080/"
    },
    "executionInfo": {
     "elapsed": 613,
     "status": "ok",
     "timestamp": 1648124263893,
     "user": {
      "displayName": "Chia-Chien Hung",
      "photoUrl": "https://lh3.googleusercontent.com/a/default-user=s64",
      "userId": "04879890229820011815"
     },
     "user_tz": -60
    },
    "id": "YPp9vg5CD6En",
    "outputId": "f45ff4d2-00db-4c7a-b2cf-d07e4d117ff4"
   },
   "outputs": [],
   "source": [
    "# Sentence segmentation\n",
    "import spacy\n",
    "nlp = spacy.load(\"en_core_web_sm\")\n",
    "doc = nlp(\"I love coding and programming. I also love sleeping!\")\n",
    "for sent in doc.sents:\n",
    "    print(sent.text)"
   ]
  },
  {
   "cell_type": "markdown",
   "metadata": {
    "id": "-K7yZU95lc1X"
   },
   "source": [
    "# **4. Vectorization**\n",
    "\n",
    "Many machine learning models require numeric representations in form of feature vectors as input. Transforming text to vectors is called **vectorization**.\n",
    "\n",
    "When you are working with textual information, it is imperative to clean your data so as to be able to train more accurate machine learning (ML) models. \n",
    "\n",
    "One of the reasons why transformations like lemmatization and stemming are useful is for normalizing the text before you feed the output to an ML algorithm. For instance, if you are building a sentiment analysis model how can you tell the model that \"smiling\" and \"smile\" refer to the same concept? You may require stemming if you are using [TF-IDF](https://en.wikipedia.org/wiki/Tf%E2%80%93idf) features combined with a machine learning algorithm such as [Naive Bayes classifier](https://en.wikipedia.org/wiki/Naive_Bayes_classifier). As you may suspect already, this also requires a really good tokenizer to come up with the features, especially when you work on noisy pieces of text that could be generated from users in a social media site.\n",
    "\n",
    "With a wide variety of NLP tasks, one of the first big steps in the NLP pipeline is to create a vocabulary that will eventually be used to determine the inputs for the model representing the features. In modern NLP techniques such as pretrained language models, you need to process a text corpus. This requires a proper and more sophisticated sentence segmentation and tokenization as we discussed before."
   ]
  },
  {
   "cell_type": "markdown",
   "metadata": {
    "id": "Uc0a7Ipr8Rv-"
   },
   "source": [
    "## **4.1 Tf-Idf Vectorization (sparse)**\n",
    "\n",
    "A simple and powerful technique, which is mostly used for traditional machine learning models is the so-called Tf-Idf vectorization.\n",
    "\n",
    "Tf-idf is a product of two values:\n",
    "* tf: term frequency (often log-transformed)\n",
    "* idf: inverse document frequency\n",
    "\n",
    "\n",
    "\n",
    "Term frequency (tf) measures how frequently the word t\n",
    "appears in the document d\n",
    "\n",
    "$$\\text{tf}_{td}= \\begin{cases} 1 + \\text{log}_{10} \\text{count}(t,d), & \\text{if  count}(t,d) \n",
    "> 0 \\\\ 0, &\\text{otherwise} \\end{cases}$$\n",
    "\n",
    "Inverse document frequency (idf) is inversely proportional\n",
    "to the number of documents in a corpus that contain t\n",
    "(frequently appeared words among documents will have lower idf values)\n",
    "\n",
    "$$\\text{idf}_t= \\text{log}_{10} \\frac{N}{\\text{df}_t}$$\n",
    "\n",
    "So, the tf-idf value for word t in document d is\n",
    "\n",
    "$$\\text{tfidf}_{td} = \\text{tf}_{td}*\\text{idf}_t$$ .\n",
    "\n",
    "So tfidf values will promote document-specific words, and penalize non-specific words (e.g. a, the, ...)\n",
    "\n",
    "[Gensim](https://radimrehurek.com/gensim/index.html) provides an implementation of a tfidf vectorizer.\n",
    "Let's see how we can use this with our data."
   ]
  },
  {
   "cell_type": "code",
   "execution_count": null,
   "metadata": {},
   "outputs": [],
   "source": [
    "from gensim.models import TfidfModel\n",
    "from gensim.corpora import Dictionary\n",
    "from gensim.utils import simple_preprocess\n",
    "\n",
    "# Tokenize content by whitespace\n",
    "tokenized_content = [list(simple_preprocess(review)) for review in all_texts_preprocessed]\n",
    "dct = Dictionary(tokenized_content)  # fit dictionary\n",
    "corpus = [dct.doc2bow(line) for line in tokenized_content]\n",
    "tfidf_model = TfidfModel(corpus)\n",
    "\n",
    "print('Number of features: {}'.format(len(dct)))"
   ]
  },
  {
   "cell_type": "markdown",
   "metadata": {
    "id": "mc3IrdTq8as8"
   },
   "source": [
    "Let's inspect what numbers we get ..."
   ]
  },
  {
   "cell_type": "code",
   "execution_count": null,
   "metadata": {
    "scrolled": true
   },
   "outputs": [],
   "source": [
    "doc = 0 #Check for our first review in our dataset\n",
    "print('Text 0:\\n{}\\n'.format(all_texts_preprocessed[0]))\n",
    "\n",
    "# Inspect tf-idf scores of document sorted by the similarity score\n",
    "for w,s in sorted(tfidf_model[corpus[doc]], reverse=True, key=lambda x: x[1]):\n",
    "    print('{}:{}'.format(dct[w], s))"
   ]
  },
  {
   "cell_type": "markdown",
   "metadata": {
    "id": "klLuSON2pUJy"
   },
   "source": [
    "**You can see that there are actually some missing tokens after applying the tfidf-vectorizer (e.g. tokens with the length less than 2). Why is this the case? How can you modify it?**"
   ]
  },
  {
   "cell_type": "code",
   "execution_count": null,
   "metadata": {
    "colab": {
     "base_uri": "https://localhost:8080/"
    },
    "executionInfo": {
     "elapsed": 846,
     "status": "ok",
     "timestamp": 1648124384782,
     "user": {
      "displayName": "Chia-Chien Hung",
      "photoUrl": "https://lh3.googleusercontent.com/a/default-user=s64",
      "userId": "04879890229820011815"
     },
     "user_tz": -60
    },
    "id": "5ZIoifyLx6kN",
    "outputId": "7d1ccb2c-ccc6-4454-9c1a-a36d1fc9dea0"
   },
   "outputs": [],
   "source": [
    "# Tokenize content by whitespace and decrease min length to 1\n",
    "tokenized_content = [list(simple_preprocess(review, min_len=1)) for review in all_texts_preprocessed]\n",
    "dct = Dictionary(tokenized_content)  # fit dictionary\n",
    "corpus = [dct.doc2bow(line) for line in tokenized_content]\n",
    "tfidf_model = TfidfModel(corpus)\n",
    "\n",
    "print('Number of features: {}'.format(len(dct)))"
   ]
  },
  {
   "cell_type": "code",
   "execution_count": null,
   "metadata": {
    "colab": {
     "base_uri": "https://localhost:8080/"
    },
    "executionInfo": {
     "elapsed": 244,
     "status": "ok",
     "timestamp": 1648124405880,
     "user": {
      "displayName": "Chia-Chien Hung",
      "photoUrl": "https://lh3.googleusercontent.com/a/default-user=s64",
      "userId": "04879890229820011815"
     },
     "user_tz": -60
    },
    "id": "T6Si07iQHe0j",
    "outputId": "2c842f8b-9b19-494e-c9d2-d47a20e307af",
    "scrolled": true
   },
   "outputs": [],
   "source": [
    "doc = 0 #Check for our first review in our dataset\n",
    "print('Text 0:\\n{}\\n'.format(all_texts_preprocessed[0]))\n",
    "\n",
    "# Inspect tf-idf scores of document sorted by the similarity score\n",
    "for w,s in sorted(tfidf_model[corpus[doc]], reverse=True, key=lambda x: x[1]):\n",
    "    print('{}:{}'.format(dct[w], s))"
   ]
  },
  {
   "cell_type": "code",
   "execution_count": null,
   "metadata": {},
   "outputs": [],
   "source": [
    "from gensim import matutils\n",
    "# vectorize all documents with tf-idf\n",
    "tfidf_vectorization_csr = matutils.corpus2csc(tfidf_model[corpus], num_terms=len(dct))\n",
    "X_tfidf_vectorization = tfidf_vectorization_csr.T.toarray()"
   ]
  },
  {
   "cell_type": "markdown",
   "metadata": {
    "id": "zimx86-x80yD"
   },
   "source": [
    "## **4.2 Word Embedding Vectorization (dense)**\n",
    "\n",
    "**Intro**\n",
    "\n",
    "Using TfIdf value for each token as the text representation will lead to the following problems:\n",
    "* high dimensional feature vector due to large size of vocabulary (V) or unseen words\n",
    "* lead to highly sparse vector (i.e. a lot of zeros)\n",
    "\n",
    "Here comes the question: how can we represent a word by encoding the co-occurrence information within context, but having a more dense representation (d << V)?\n",
    "\n",
    "**Distributional Hypothesis**\n",
    "* Words which are similar in meaning occur in similar contexts\n",
    "* Words that occur in the same contexts tend to have similar meanings\n",
    "\n",
    "Learn dense word representations (e.g. d=50, 100, 300, ...) by expoiting co-occurrence statistics with neighboring words. Each word is represented by a dense vector and the dimension of the semantic representation d is usually much\n",
    "smaller than the size of the vocabulary (d << V). All dimensions contain real-valued numbers (possibly normalized between −1 and 1).\n",
    "\n",
    "* **CBOW**: predict center word from neighboring words\n",
    "* **Skip-gram**: predict neighboring words from center word\n",
    "\n",
    "<p align=\"center\">\n",
    "<img src=\"https://miro.medium.com/v2/resize:fit:720/format:webp/1*cuOmGT7NevP9oJFJfVpRKA.png\" width=800></img>\n",
    "</p>\n",
    "\n",
    "* **Glove**: leveraging global word to word co-occurance counts on the entire corpus\n",
    "* **FastText**: represent words by neighboring ngrams, capturing out-of-vocabulary (OOV) words"
   ]
  },
  {
   "cell_type": "markdown",
   "metadata": {
    "id": "6e6y7cWw_TX2"
   },
   "source": [
    "In order to use pretrained word embeddings, you just have to download the vectors from the authors web site. Often, it is just a text file with the following structure:\n",
    "\\<word> \\<tab> \\<vector> .\n",
    "\n",
    "Here, we can again make use of gensim, which already provides some [pretrained models](https://github.com/RaRe-Technologies/gensim-data)."
   ]
  },
  {
   "cell_type": "code",
   "execution_count": null,
   "metadata": {
    "executionInfo": {
     "elapsed": 434,
     "status": "ok",
     "timestamp": 1648124438086,
     "user": {
      "displayName": "Chia-Chien Hung",
      "photoUrl": "https://lh3.googleusercontent.com/a/default-user=s64",
      "userId": "04879890229820011815"
     },
     "user_tz": -60
    },
    "id": "fe4u6oNXBoEj"
   },
   "outputs": [],
   "source": [
    "import gensim.downloader as api"
   ]
  },
  {
   "cell_type": "code",
   "execution_count": null,
   "metadata": {
    "colab": {
     "base_uri": "https://localhost:8080/"
    },
    "executionInfo": {
     "elapsed": 41413,
     "status": "ok",
     "timestamp": 1648124480620,
     "user": {
      "displayName": "Chia-Chien Hung",
      "photoUrl": "https://lh3.googleusercontent.com/a/default-user=s64",
      "userId": "04879890229820011815"
     },
     "user_tz": -60
    },
    "id": "_YzaemW_BFlZ",
    "outputId": "e77e1723-6571-430b-eff0-56aa7fe2d11f"
   },
   "outputs": [],
   "source": [
    "# Load the glove model\n",
    "glove_model = api.load(\"glove-wiki-gigaword-50\")"
   ]
  },
  {
   "cell_type": "code",
   "execution_count": null,
   "metadata": {
    "colab": {
     "base_uri": "https://localhost:8080/"
    },
    "executionInfo": {
     "elapsed": 217,
     "status": "ok",
     "timestamp": 1648124482731,
     "user": {
      "displayName": "Chia-Chien Hung",
      "photoUrl": "https://lh3.googleusercontent.com/a/default-user=s64",
      "userId": "04879890229820011815"
     },
     "user_tz": -60
    },
    "id": "WTjXfLN7KUvE",
    "outputId": "07e53935-5173-4d42-bb31-180c1005b378"
   },
   "outputs": [],
   "source": [
    "print('Vocab size: {}'.format(len(glove_model.index_to_key)))"
   ]
  },
  {
   "cell_type": "code",
   "execution_count": null,
   "metadata": {
    "colab": {
     "base_uri": "https://localhost:8080/"
    },
    "executionInfo": {
     "elapsed": 227,
     "status": "ok",
     "timestamp": 1648124484689,
     "user": {
      "displayName": "Chia-Chien Hung",
      "photoUrl": "https://lh3.googleusercontent.com/a/default-user=s64",
      "userId": "04879890229820011815"
     },
     "user_tz": -60
    },
    "id": "NnC0r1qSCAD_",
    "outputId": "768bc8e0-dd1c-4462-eb7e-edaa20dcc286"
   },
   "outputs": [],
   "source": [
    "glove_model[\"glass\"]"
   ]
  },
  {
   "cell_type": "code",
   "execution_count": null,
   "metadata": {
    "colab": {
     "base_uri": "https://localhost:8080/"
    },
    "executionInfo": {
     "elapsed": 330,
     "status": "ok",
     "timestamp": 1648124487913,
     "user": {
      "displayName": "Chia-Chien Hung",
      "photoUrl": "https://lh3.googleusercontent.com/a/default-user=s64",
      "userId": "04879890229820011815"
     },
     "user_tz": -60
    },
    "id": "vJlha75XB-Ls",
    "outputId": "07896f2f-f09b-4d6c-e724-0c0d41ac5c6f"
   },
   "outputs": [],
   "source": [
    "glove_model.most_similar(\"glass\")"
   ]
  },
  {
   "cell_type": "markdown",
   "metadata": {
    "id": "spAPjv2F_Hax"
   },
   "source": [
    "We can transform, i.e., vectorize, our text by looking up the pretrained embedding for each word."
   ]
  },
  {
   "cell_type": "code",
   "execution_count": null,
   "metadata": {
    "colab": {
     "base_uri": "https://localhost:8080/"
    },
    "executionInfo": {
     "elapsed": 220,
     "status": "ok",
     "timestamp": 1648124498750,
     "user": {
      "displayName": "Chia-Chien Hung",
      "photoUrl": "https://lh3.googleusercontent.com/a/default-user=s64",
      "userId": "04879890229820011815"
     },
     "user_tz": -60
    },
    "id": "Mk5fRWnqCs_Y",
    "outputId": "c8a7a028-c108-4493-ea87-7dfd469fcca1",
    "scrolled": true
   },
   "outputs": [],
   "source": [
    "all_texts_tokenized_embedded = [[glove_model[w] for w in t if w in glove_model]  for t in all_texts_preprocessed]\n",
    "all_texts_tokenized_embedded[0][0:5]"
   ]
  },
  {
   "cell_type": "markdown",
   "metadata": {
    "id": "MkXwaXveDNXv"
   },
   "source": [
    "Now, we have assigned a vector to each word. But how to get a sentence representation? For instance, we can just average the individual word vectors.\n"
   ]
  },
  {
   "cell_type": "code",
   "execution_count": null,
   "metadata": {
    "colab": {
     "base_uri": "https://localhost:8080/"
    },
    "executionInfo": {
     "elapsed": 12963,
     "status": "ok",
     "timestamp": 1648124522962,
     "user": {
      "displayName": "Chia-Chien Hung",
      "photoUrl": "https://lh3.googleusercontent.com/a/default-user=s64",
      "userId": "04879890229820011815"
     },
     "user_tz": -60
    },
    "id": "dM9FmubeDdpR",
    "outputId": "f4873591-ae5f-4201-84e1-5103c47f3035"
   },
   "outputs": [],
   "source": [
    "import numpy as np\n",
    "all_texts_tokenized_embedded = [[glove_model[w].astype(float) for w in t if w in glove_model] for t in all_texts_preprocessed]\n",
    "X_all_texts_tokenized_embedded_averaged = [np.average(t, axis=0) for t in all_texts_tokenized_embedded]"
   ]
  },
  {
   "cell_type": "code",
   "execution_count": null,
   "metadata": {
    "colab": {
     "base_uri": "https://localhost:8080/"
    },
    "executionInfo": {
     "elapsed": 255,
     "status": "ok",
     "timestamp": 1648124528644,
     "user": {
      "displayName": "Chia-Chien Hung",
      "photoUrl": "https://lh3.googleusercontent.com/a/default-user=s64",
      "userId": "04879890229820011815"
     },
     "user_tz": -60
    },
    "id": "N-b3qjtr8KQQ",
    "outputId": "0f91759f-bfe4-4029-9a9d-ed272ec169c7"
   },
   "outputs": [],
   "source": [
    "# Further find out that there are some texts which are not representative by using glove\n",
    "for i, k in enumerate(X_all_texts_tokenized_embedded_averaged):\n",
    "    if np.isnan(k).any():\n",
    "        print(all_texts_preprocessed[i])\n",
    "    \n",
    "# For these cases we can simply assign a random word vector from gensim.model\n",
    "for i, k in enumerate(X_all_texts_tokenized_embedded_averaged):\n",
    "    if np.isnan(k).any():\n",
    "        X_all_texts_tokenized_embedded_averaged[i]=glove_model[random.choice(glove_model.index_to_key)]"
   ]
  },
  {
   "cell_type": "code",
   "execution_count": null,
   "metadata": {
    "colab": {
     "base_uri": "https://localhost:8080/"
    },
    "executionInfo": {
     "elapsed": 210,
     "status": "ok",
     "timestamp": 1648124536086,
     "user": {
      "displayName": "Chia-Chien Hung",
      "photoUrl": "https://lh3.googleusercontent.com/a/default-user=s64",
      "userId": "04879890229820011815"
     },
     "user_tz": -60
    },
    "id": "uMWBV6nvBHrM",
    "outputId": "ac324da1-ac67-47a0-dbf1-f1e20657ea6a"
   },
   "outputs": [],
   "source": [
    "X_all_texts_tokenized_embedded_averaged = np.array(X_all_texts_tokenized_embedded_averaged)\n",
    "X_all_texts_tokenized_embedded_averaged.shape"
   ]
  },
  {
   "cell_type": "code",
   "execution_count": null,
   "metadata": {
    "id": "A9N8gWCexugB"
   },
   "outputs": [],
   "source": [
    "### Exercise: do weighted average by using tf-idf score, instead of simple average "
   ]
  },
  {
   "cell_type": "markdown",
   "metadata": {
    "id": "LoIHJavMrKWR"
   },
   "source": [
    "# **5. ML Framework: scikit-learn (sklearn)**\n",
    "\n",
    "[Scikit-learn](https://scikit-learn.org/stable/) (formerly scikits.learn and also known as sklearn) is a free software machine learning library for the Python programming language. It features various classification, regression and clustering algorithms including support vector machines, random forests, gradient boosting, k-means...etc, and is designed to interoperate with the Python numerical and scientific libraries NumPy and SciPy."
   ]
  },
  {
   "cell_type": "markdown",
   "metadata": {
    "id": "sR6nzxqbrvnm"
   },
   "source": [
    "## **5.1 Classification**"
   ]
  },
  {
   "cell_type": "code",
   "execution_count": null,
   "metadata": {
    "colab": {
     "base_uri": "https://localhost:8080/"
    },
    "executionInfo": {
     "elapsed": 221,
     "status": "ok",
     "timestamp": 1648125095211,
     "user": {
      "displayName": "Chia-Chien Hung",
      "photoUrl": "https://lh3.googleusercontent.com/a/default-user=s64",
      "userId": "04879890229820011815"
     },
     "user_tz": -60
    },
    "id": "44WsA9M0yk_Q",
    "outputId": "edc6c09c-da38-4cb3-cfa6-be5a80387800"
   },
   "outputs": [],
   "source": [
    "# Now our input can either be X_tfidf_vectorization or X_all_texts_tokenized_embedded_averaged\n",
    "# Case1: X = X_tfidf_vectorization\n",
    "\n",
    "X = X_tfidf_vectorization\n",
    "print(X.shape)\n",
    "Y = np.array(list(df['sentiment']))\n",
    "print(Y.shape)"
   ]
  },
  {
   "cell_type": "code",
   "execution_count": null,
   "metadata": {
    "colab": {
     "base_uri": "https://localhost:8080/"
    },
    "executionInfo": {
     "elapsed": 1424,
     "status": "ok",
     "timestamp": 1648125098001,
     "user": {
      "displayName": "Chia-Chien Hung",
      "photoUrl": "https://lh3.googleusercontent.com/a/default-user=s64",
      "userId": "04879890229820011815"
     },
     "user_tz": -60
    },
    "id": "OFYh3Et6zaTh",
    "outputId": "ca984ec6-83ed-402e-e0e0-c7179210b71a"
   },
   "outputs": [],
   "source": [
    "from sklearn.model_selection import train_test_split\n",
    "# split train, val, test data\n",
    "X_train, X_test, y_train, y_test = train_test_split(X, Y, test_size=0.2, random_state=RANDOM_SEED, shuffle=True)\n",
    "X_val, X_test, y_val, y_test = train_test_split(X_test, y_test, test_size=0.5, random_state=RANDOM_SEED, shuffle=True)\n",
    "print(len(X_train), len(X_val), len(X_test))"
   ]
  },
  {
   "cell_type": "code",
   "execution_count": null,
   "metadata": {
    "colab": {
     "base_uri": "https://localhost:8080/"
    },
    "executionInfo": {
     "elapsed": 105548,
     "status": "ok",
     "timestamp": 1648128718366,
     "user": {
      "displayName": "Chia-Chien Hung",
      "photoUrl": "https://lh3.googleusercontent.com/a/default-user=s64",
      "userId": "04879890229820011815"
     },
     "user_tz": -60
    },
    "id": "RnXyJuaV1Ual",
    "outputId": "fd17727a-212b-4360-cc65-1bc315c91dff"
   },
   "outputs": [],
   "source": [
    "# SGDClassifier: https://scikit-learn.org/stable/modules/generated/sklearn.linear_model.SGDClassifier.html\n",
    "from sklearn.linear_model import SGDClassifier\n",
    "from sklearn.metrics import precision_recall_fscore_support\n",
    "from sklearn.metrics import accuracy_score\n",
    "\n",
    "# Initialize list of classifiers\n",
    "classifiers_to_test = [\n",
    "    ('SGD trained for 200 iters', \n",
    "         SGDClassifier(max_iter = 200, random_state=RANDOM_SEED)),\n",
    "    ('SGD trained for 200 iters, lr=adaptive, eta0=0.1, class_weights=balanced', \n",
    "         SGDClassifier(max_iter = 200, learning_rate = 'adaptive', eta0=0.1, class_weight='balanced', random_state=RANDOM_SEED)),\n",
    "    ('SGD trained for 200 iters, lr=adaptive, eta0=0.1, class_weights=balanced, loss=log_loss',\n",
    "        SGDClassifier(max_iter = 200, learning_rate = 'adaptive', eta0=0.1, class_weight='balanced', loss='log_loss', random_state=RANDOM_SEED))\n",
    "]\n",
    "\n",
    "# train evaluate classifiers\n",
    "for name, classifier in classifiers_to_test:\n",
    "    classifier.fit(X_train, y_train)\n",
    "\n",
    "    # Predict Class\n",
    "    y_pred = classifier.predict(X_val)\n",
    "\n",
    "    # Accuracy \n",
    "    print('Classifier: {}'.format(name))\n",
    "    print('Accuracy: {}'.format(accuracy_score(y_val, y_pred)*100))\n",
    "    P, R, F1, _ = precision_recall_fscore_support(y_val, y_pred, average='macro')\n",
    "    print('P: {}, R:{}, F1: {}'.format(P*100, R*100, F1*100))\n",
    "    print('')"
   ]
  },
  {
   "cell_type": "code",
   "execution_count": null,
   "metadata": {},
   "outputs": [],
   "source": [
    "# Evaluate best classifier on test set\n",
    "y_pred = classifiers_to_test[1][1].predict(X_test)\n",
    "\n",
    "# Accuracy \n",
    "print('Classifier: {}'.format(name))\n",
    "print('Accuracy: {}'.format(accuracy_score(y_test, y_pred)))\n",
    "P, R, F1, _ = precision_recall_fscore_support(y_test, y_pred, average='macro')\n",
    "print('P: {}, R:{}, F1: {}'.format(P, R, F1))"
   ]
  },
  {
   "cell_type": "code",
   "execution_count": null,
   "metadata": {},
   "outputs": [],
   "source": [
    "# Case2: X = X_all_texts_tokenized_embedded_averaged\n",
    "# If our input is the average embedding for the text tokens\n",
    "\n",
    "X = X_all_texts_tokenized_embedded_averaged\n",
    "Y = np.array(list(df['sentiment']))\n",
    "X_train, X_test, y_train, y_test = train_test_split(X, Y, test_size=0.2, random_state=RANDOM_SEED, shuffle=True)\n",
    "X_val, X_test, y_val, y_test = train_test_split(X_test, y_test, test_size=0.5, random_state=RANDOM_SEED, shuffle=True)"
   ]
  },
  {
   "cell_type": "code",
   "execution_count": null,
   "metadata": {
    "colab": {
     "base_uri": "https://localhost:8080/"
    },
    "executionInfo": {
     "elapsed": 1944,
     "status": "ok",
     "timestamp": 1648125004006,
     "user": {
      "displayName": "Chia-Chien Hung",
      "photoUrl": "https://lh3.googleusercontent.com/a/default-user=s64",
      "userId": "04879890229820011815"
     },
     "user_tz": -60
    },
    "id": "Tx9cR-VB1pPq",
    "outputId": "6e5e41b2-c3f3-4e0c-ca9f-a96fa531bb19"
   },
   "outputs": [],
   "source": [
    "# Initialize list of classifiers\n",
    "classifiers_to_test = [\n",
    "    ('SGD trained for 200 iters', \n",
    "         SGDClassifier(max_iter = 200, random_state=RANDOM_SEED)),\n",
    "    ('SGD trained for 200 iters, lr=adaptive, eta0=0.1, class_weights=balanced', \n",
    "         SGDClassifier(max_iter = 200, learning_rate = 'adaptive', eta0=0.1, class_weight='balanced', random_state=RANDOM_SEED)),\n",
    "    ('SGD trained for 200 iters, lr=adaptive, eta0=0.1, class_weights=balanced, loss=log',\n",
    "        SGDClassifier(max_iter = 200, learning_rate = 'adaptive', eta0=0.1, class_weight='balanced', loss='log_loss', random_state=RANDOM_SEED))\n",
    "]\n",
    "\n",
    "# train evaluate classifiers\n",
    "for name, classifier in classifiers_to_test:\n",
    "    classifier.fit(X_train, y_train)\n",
    "\n",
    "    # Predict Class\n",
    "    y_pred = classifier.predict(X_val)\n",
    "\n",
    "    # Accuracy \n",
    "    print('Classifier: {}'.format(name))\n",
    "    print('Accuracy: {}'.format(accuracy_score(y_val, y_pred)))\n",
    "    P, R, F1, _ = precision_recall_fscore_support(y_val, y_pred, average='macro')\n",
    "    print('P: {}, R:{}, F1: {}'.format(P, R, F1))\n",
    "    print('')"
   ]
  },
  {
   "cell_type": "code",
   "execution_count": null,
   "metadata": {},
   "outputs": [],
   "source": [
    "# Evaluate best classifier on test set\n",
    "y_pred = classifiers_to_test[2][1].predict(X_test)\n",
    "\n",
    "# Accuracy \n",
    "print('Classifier: {}'.format(name))\n",
    "print('Accuracy: {}'.format(accuracy_score(y_test, y_pred)))\n",
    "P, R, F1, _ = precision_recall_fscore_support(y_test, y_pred, average='macro')\n",
    "print('P: {}, R:{}, F1: {}'.format(P, R, F1))"
   ]
  },
  {
   "cell_type": "markdown",
   "metadata": {},
   "source": [
    "Use Cross-Validation for hyperparameter tuning.\n",
    "\n",
    "**Running the following cell is computationally expensive and will take some time!**"
   ]
  },
  {
   "cell_type": "code",
   "execution_count": null,
   "metadata": {},
   "outputs": [],
   "source": [
    "# Use Cross Validation to tune hyperparameters\n",
    "from sklearn.neighbors import KNeighborsClassifier\n",
    "from sklearn.model_selection import StratifiedKFold\n",
    "from sklearn.model_selection import GridSearchCV\n",
    "\n",
    "X = X_tfidf_vectorization\n",
    "Y = np.array(list(df['sentiment']))\n",
    "X_train, X_test, y_train, y_test = train_test_split(X, Y, test_size=0.2, random_state=RANDOM_SEED, shuffle=True)\n",
    "\n",
    "# create an classifier\n",
    "classifier = SGDClassifier(max_iter=200, learning_rate = 'adaptive', class_weight='balanced', random_state=RANDOM_SEED)\n",
    "\n",
    "# specify the parameter grid\n",
    "parameters = {\n",
    "    'eta0': [0.1, 0.001, 0.0001]\n",
    "}\n",
    "\n",
    "# specify the cross validation\n",
    "stratified_5_fold_cv = StratifiedKFold(n_splits=5, shuffle=True, random_state=42)\n",
    "\n",
    "# create the grid search instance\n",
    "grid_search_estimator = GridSearchCV(classifier, parameters, scoring='accuracy', cv=stratified_5_fold_cv, return_train_score=False)\n",
    "\n",
    "# run the grid search\n",
    "grid_search_estimator.fit(X_train,y_train)\n",
    "\n",
    "# print the results of all hyper-parameter combinations\n",
    "results = pd.DataFrame(grid_search_estimator.cv_results_)\n",
    "display(results)\n",
    "    \n",
    "# print the best parameter setting\n",
    "print(\"best score is {} with params {}\".format(grid_search_estimator.best_score_, grid_search_estimator.best_params_))\n",
    "\n",
    "# Predict Class\n",
    "y_pred = grid_search_estimator.predict(X_test)\n",
    "\n",
    "# Accuracy \n",
    "print('Classifier: {}'.format(name))\n",
    "print('Accuracy: {}'.format(accuracy_score(y_test, y_pred)))\n",
    "P, R, F1, _ = precision_recall_fscore_support(y_test, y_pred, average='macro')\n",
    "print('P: {}, R:{}, F1: {}'.format(P, R, F1))\n",
    "print('')"
   ]
  },
  {
   "cell_type": "code",
   "execution_count": null,
   "metadata": {
    "id": "rqDs5yOhJfmc"
   },
   "outputs": [],
   "source": [
    "### Exercise: working with different classifiers in sklearn\n",
    "# e.g. https://scikit-learn.org/stable/auto_examples/classification/plot_classifier_comparison.html"
   ]
  },
  {
   "cell_type": "code",
   "execution_count": null,
   "metadata": {
    "id": "3EjGKiG0KiNl"
   },
   "outputs": [],
   "source": [
    "### Exercise: how about more preprocessing steps?"
   ]
  },
  {
   "cell_type": "code",
   "execution_count": null,
   "metadata": {
    "colab": {
     "base_uri": "https://localhost:8080/"
    },
    "executionInfo": {
     "elapsed": 565,
     "status": "ok",
     "timestamp": 1648125203756,
     "user": {
      "displayName": "Chia-Chien Hung",
      "photoUrl": "https://lh3.googleusercontent.com/a/default-user=s64",
      "userId": "04879890229820011815"
     },
     "user_tz": -60
    },
    "id": "zTFRXMLTKm0p",
    "outputId": "233709ff-f74e-4c26-930f-d54f1f4e0082",
    "scrolled": true
   },
   "outputs": [],
   "source": [
    "### How about writing a prediction function for inputing an unseen text, and check the predicted result.\n",
    "x_new = \"I like this app. It's super useful!😄\"\n",
    "x_new_preprocessed = ' '.join(nltk.word_tokenize(emoji.demojize(x_new.lower(), language='en')))\n",
    "\n",
    "# Vectorize with gensim\n",
    "x_new_preprocessed_corpus = dct.doc2bow(simple_preprocess(x_new_preprocessed))\n",
    "x_new_preprocessed_tfidf = tfidf_model[x_new_preprocessed_corpus]\n",
    "\n",
    "# Convert vectorization to process in sklearn\n",
    "x_new_preprocessed_tfidf_csr = matutils.corpus2csc([x_new_preprocessed_tfidf], num_terms=len(dct))\n",
    "x_new_preprocessed_tfidf_vectorization = x_new_preprocessed_tfidf_csr.T.toarray()\n",
    "print(x_new_preprocessed_tfidf_vectorization)\n",
    "\n",
    "mapping_class = {0: \"negative\", 1: \"neutral\", 2: \"positive\"}\n",
    "print('Predicted Class: {}'.format(mapping_class[grid_search_estimator.predict(x_new_preprocessed_tfidf_vectorization)[0]]))"
   ]
  },
  {
   "cell_type": "code",
   "execution_count": null,
   "metadata": {
    "id": "Xw3MbJ5uJrHY"
   },
   "outputs": [],
   "source": [
    "### More advanced: try fasttext embedding instead of glove to deal with OOV words\n",
    "# https://github.com/facebookresearch/fastText/\n",
    "# !pip install fasttext\n",
    "# Download the model from their website\n",
    "# model = fasttext.load_model(\"model_filename.bin\")\n",
    "# model = fasttext.train_unsupervised('data.txt', model='skipgram')"
   ]
  }
 ],
 "metadata": {
  "colab": {
   "authorship_tag": "ABX9TyNc5p2ULPDMe4ho9iKUVSQE",
   "collapsed_sections": [],
   "name": "Lab5_web content mining_update.ipynb",
   "provenance": []
  },
  "kernelspec": {
   "display_name": "Python 3 (ipykernel)",
   "language": "python",
   "name": "python3"
  },
  "language_info": {
   "codemirror_mode": {
    "name": "ipython",
    "version": 3
   },
   "file_extension": ".py",
   "mimetype": "text/x-python",
   "name": "python",
   "nbconvert_exporter": "python",
   "pygments_lexer": "ipython3",
   "version": "3.7.13"
  }
 },
 "nbformat": 4,
 "nbformat_minor": 1
}
